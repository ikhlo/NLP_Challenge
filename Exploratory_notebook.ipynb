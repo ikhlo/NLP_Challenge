{
  "cells": [
    {
      "cell_type": "markdown",
      "metadata": {
        "id": "tbcIHIi-VX_C"
      },
      "source": [
        "# Data Challenge NLP, X-Natixis : Prediction of VIX using Central banks speeches"
      ]
    },
    {
      "cell_type": "code",
      "execution_count": null,
      "metadata": {
        "id": "qSEALMn5Jb8a"
      },
      "outputs": [],
      "source": [
        "import json\n",
        "import numpy as np\n",
        "import torch\n",
        "import matplotlib.pyplot as plt"
      ]
    },
    {
      "cell_type": "markdown",
      "metadata": {
        "tags": [],
        "id": "0cbmu34WPHW3"
      },
      "source": [
        "### Download required files if needed"
      ]
    },
    {
      "cell_type": "code",
      "execution_count": null,
      "metadata": {
        "colab": {
          "base_uri": "https://localhost:8080/"
        },
        "id": "eCfIUlHxvAWE",
        "outputId": "9ec10ee3-09e1-4c24-db6b-ee228864ec93"
      },
      "outputs": [
        {
          "output_type": "stream",
          "name": "stdout",
          "text": [
            "  Installing build dependencies ... \u001b[?25l\u001b[?25hdone\n",
            "  Getting requirements to build wheel ... \u001b[?25l\u001b[?25hdone\n",
            "    Preparing wheel metadata ... \u001b[?25l\u001b[?25hdone\n",
            "  Building wheel for gdown (PEP 517) ... \u001b[?25l\u001b[?25hdone\n",
            "Downloading...\n",
            "From: https://drive.google.com/uc?id=1CA4obGlDXfpk_ZWe758idTzvhDkUQPDy\n",
            "To: /content/VIX_1w.json\n",
            "100% 263M/263M [00:03<00:00, 75.4MB/s]\n",
            "Downloading...\n",
            "From: https://drive.google.com/uc?id=1PMOTlRopWR5Jzf06Vb5GinVZubXyalEB\n",
            "To: /content/EURUSDV1M_1w.json\n",
            "100% 263M/263M [00:03<00:00, 79.4MB/s]\n"
          ]
        }
      ],
      "source": [
        "# Train data\n",
        "!pip install --upgrade --no-cache-dir gdown --quiet\n",
        "!gdown 1CA4obGlDXfpk_ZWe758idTzvhDkUQPDy\n",
        "!gdown 1PMOTlRopWR5Jzf06Vb5GinVZubXyalEB"
      ]
    },
    {
      "cell_type": "code",
      "source": [
        "# test data\n",
        "!pip install --upgrade --no-cache-dir gdown --quiet\n",
        "!gdown 1QyZ07R-o64pgqC6COfhijLTeLOPPzRtM\n",
        "!gdown 1d0YuD1dzsLd2ke__h5qZwOJbGwm3gF-b\n",
        "!gdwon 11bbSx8QSMPb9-k8JMSVLY-HYAWNEuurH\n",
        "!gdown 1v1TsrK9uX_LvoFAbHLASGM9XZPYmxUyD"
      ],
      "metadata": {
        "colab": {
          "base_uri": "https://localhost:8080/"
        },
        "id": "y21DVpGIckeW",
        "outputId": "e7e4dbfd-2cfb-4c3c-d5e2-82a66b8dd061"
      },
      "execution_count": null,
      "outputs": [
        {
          "output_type": "stream",
          "name": "stdout",
          "text": [
            "Downloading...\n",
            "From: https://drive.google.com/uc?id=1QyZ07R-o64pgqC6COfhijLTeLOPPzRtM\n",
            "To: /content/test_VIX_1w.json\n",
            "100% 30.4M/30.4M [00:00<00:00, 46.0MB/s]\n",
            "Downloading...\n",
            "From: https://drive.google.com/uc?id=1d0YuD1dzsLd2ke__h5qZwOJbGwm3gF-b\n",
            "To: /content/test_EURUSDV1M_1w.json\n",
            "100% 30.4M/30.4M [00:00<00:00, 44.0MB/s]\n"
          ]
        }
      ]
    },
    {
      "cell_type": "markdown",
      "metadata": {
        "id": "qv7qGvOC-w8_"
      },
      "source": [
        "### Collecting data"
      ]
    },
    {
      "cell_type": "code",
      "execution_count": null,
      "metadata": {
        "id": "S6pdhyonJStZ"
      },
      "outputs": [],
      "source": [
        "train_vix_json = 'VIX_1w.json'\n",
        "train_eur_json = 'EURUSDV1M_1w.json'\n",
        "\n",
        "with open(train_vix_json, 'r') as json_file:\n",
        "    train_vix = json.load(json_file)\n",
        "\n",
        "with open(train_eur_json, 'r') as json_file:\n",
        "    train_eur = json.load(json_file)"
      ]
    },
    {
      "cell_type": "code",
      "source": [
        "test_vix_json = 'test_VIX_1w.json'\n",
        "test_eur_json = 'test_EURUSDV1M_1w.json'\n",
        "\n",
        "with open(test_vix_json, 'r') as json_file:\n",
        "    test_vix = json.load(json_file)\n",
        "\n",
        "with open(test_eur_json, 'r') as json_file:\n",
        "    test_eur = json.load(json_file)"
      ],
      "metadata": {
        "id": "yTWnzA2EdUE4"
      },
      "execution_count": null,
      "outputs": []
    },
    {
      "cell_type": "code",
      "source": [
        "y_test_vix_json = 'VIX_1w_truth.json'\n",
        "y_test_eur_json = 'EURUSDV1M_1w_truth.json'\n",
        "\n",
        "with open(test_vix_json, 'r') as json_file:\n",
        "  y_test_vix = json.load(json_file)\n",
        "\n",
        "with open(test_eur_json, 'r') as json_file:\n",
        "  y_test_eur = json.load(json_file)"
      ],
      "metadata": {
        "id": "_M9OxooRuJ8K"
      },
      "execution_count": null,
      "outputs": []
    },
    {
      "cell_type": "markdown",
      "metadata": {
        "id": "4zRNQ_qSJ1Tj"
      },
      "source": [
        "### Get unique speech list"
      ]
    },
    {
      "cell_type": "code",
      "source": [
        "def process_json(json_data):\n",
        "  for individual in json_data:\n",
        "    for day_of_speech in individual['speech']:\n",
        "      for bank in day_of_speech.keys():\n",
        "        day_of_speech[bank] = '' if len(day_of_speech[bank])==0 else day_of_speech[bank][0].strip('\\\" ')\n",
        "\n",
        "process_json(train_vix)\n",
        "process_json(train_eur)\n",
        "\n",
        "process_json(test_vix)\n",
        "process_json(test_eur)"
      ],
      "metadata": {
        "id": "th_TXpIRxl13"
      },
      "execution_count": null,
      "outputs": []
    },
    {
      "cell_type": "code",
      "execution_count": null,
      "metadata": {
        "id": "NOHtlVXqFNcg"
      },
      "outputs": [],
      "source": [
        "def get_list_speeches(data, bank='FED'):\n",
        "  N = len(data)\n",
        "  T = 20\n",
        "    \n",
        "  speech_set = set()\n",
        "  speech_list = []\n",
        "\n",
        "  for sample in range(N):\n",
        "    for day in range(T):\n",
        "      speech = data[sample]['speech'][day][bank]\n",
        "      if (speech not in speech_set) and (len(speech) != 0):\n",
        "        speech_set.add(speech)\n",
        "        speech_list.append(speech)\n",
        "  \n",
        "  return speech_list\n",
        "\n",
        "fed_speech_vix = get_list_speeches(train_vix, bank='FED')\n",
        "ecb_speech_vix = get_list_speeches(train_vix, bank='ECB')\n",
        "\n",
        "fed_speech_eur = get_list_speeches(train_eur, bank='FED')\n",
        "ecb_speech_eur = get_list_speeches(train_eur, bank='ECB')\n",
        "\n",
        "test_fed_speech_vix = get_list_speeches(test_vix, bank='FED')\n",
        "test_ecb_speech_vix = get_list_speeches(test_vix, bank='ECB')\n",
        "\n",
        "test_fed_speech_eur = get_list_speeches(test_eur, bank='FED')\n",
        "test_ecb_speech_eur = get_list_speeches(test_eur, bank='ECB')"
      ]
    },
    {
      "cell_type": "code",
      "execution_count": null,
      "metadata": {
        "colab": {
          "base_uri": "https://localhost:8080/"
        },
        "id": "JkndYlB9f9Pi",
        "outputId": "f39077b9-4f44-45f5-ee91-92e0e2c3ac80"
      },
      "outputs": [
        {
          "output_type": "stream",
          "name": "stdout",
          "text": [
            "1262\n",
            "417\n",
            "1262\n",
            "417\n"
          ]
        }
      ],
      "source": [
        "print(len(ecb_speech_vix))\n",
        "print(len(fed_speech_vix))\n",
        "\n",
        "print(len(ecb_speech_eur))\n",
        "print(len(fed_speech_eur))"
      ]
    },
    {
      "cell_type": "markdown",
      "metadata": {
        "id": "lKdhk6iSK_Zl"
      },
      "source": [
        "### Construct X_train, y_train"
      ]
    },
    {
      "cell_type": "code",
      "execution_count": null,
      "metadata": {
        "id": "IKJZMk7_LgKf"
      },
      "outputs": [],
      "source": [
        "def build_dataset(data, fed_list=None, ecb_list=None, labels=True):\n",
        "\n",
        "    N = len(data)\n",
        "    T = 20\n",
        "    banks = ['ECB', 'FED']\n",
        "    X = np.empty((N, 3), dtype=object)\n",
        "    y = np.empty((N, 2))\n",
        "    \n",
        "    if fed_list is None:\n",
        "      fed_list = get_list_speeches(data, bank='FED')\n",
        "    if ecb_list is None:\n",
        "      ecb_list = get_list_speeches(data, bank='ECB')\n",
        "\n",
        "    for i in range(len(data)):\n",
        "        idx_ecb = []\n",
        "        idx_fed = []\n",
        "        for day in range(T):\n",
        "          for b in banks:\n",
        "            speech = data[i]['speech'][day][b] \n",
        "            if (len(speech) == 0) or (speech not in eval(b.lower()+\"_list\")):\n",
        "              eval(\"idx_\"+b.lower()).append(0)\n",
        "            else:\n",
        "              eval(\"idx_\"+b.lower()).append(eval(b.lower()+\"_list\").index(speech))\n",
        "\n",
        "        X[i, 0] = np.array(data[i]['stock'])\n",
        "        X[i, 1] = np.array(idx_fed)\n",
        "        X[i, 2] = np.array(idx_ecb)\n",
        "        \n",
        "        if labels:\n",
        "            y[i, 0] = data[i]['target_reg']\n",
        "            y[i, 1] = data[i]['target_classif']\n",
        "\n",
        "    return X, y"
      ]
    },
    {
      "cell_type": "code",
      "execution_count": null,
      "metadata": {
        "colab": {
          "base_uri": "https://localhost:8080/"
        },
        "id": "uXxTrdarRW9r",
        "outputId": "22015c6b-e42c-45c9-cf93-2c96e82d29b3"
      },
      "outputs": [
        {
          "output_type": "stream",
          "name": "stdout",
          "text": [
            "[array([-0.47295821, -0.17240761, -0.19455345, -0.20931734, -0.15237091,\n",
            "        -0.19666258, -0.12073401, -0.22829948, -0.11335206, -0.0342598 ,\n",
            "        -0.17662586,  0.14607055,  0.29476401,  0.20196241,  0.00581361,\n",
            "        -0.11335206, -0.14920722, -0.06800583,  0.12287015,  0.06592373])\n",
            " array([0, 0, 0, 0, 0, 0, 0, 1, 2, 0, 0, 0, 0, 0, 0, 0, 0, 0, 3, 0])\n",
            " array([ 0,  1,  0,  0,  2,  3,  4,  5,  6,  0,  0,  7,  0,  0,  0,  8,  0,\n",
            "         0,  9, 10])                                                       ]\n",
            "[-0.40862983  0.        ]\n"
          ]
        }
      ],
      "source": [
        "X_train_vix, y_train_vix = build_dataset(train_vix)\n",
        "X_train_eur, y_train_eur = build_dataset(train_eur)\n",
        "\n",
        "X_test_vix, _ = build_dataset(test_vix, labels=False)\n",
        "X_test_eur, _ = build_dataset(test_eur, labels=False)\n",
        "\n",
        "print(X_train_vix[0])\n",
        "print(y_train_vix[0])"
      ]
    },
    {
      "cell_type": "markdown",
      "metadata": {
        "id": "XS-O6nHGPHXT"
      },
      "source": [
        "## Languages"
      ]
    },
    {
      "cell_type": "markdown",
      "metadata": {
        "id": "CtIoEP1v4HEj",
        "jp-MarkdownHeadingCollapsed": true,
        "tags": []
      },
      "source": [
        "#### Identify languages and compute them"
      ]
    },
    {
      "cell_type": "code",
      "source": [
        "!pip install langdetect"
      ],
      "metadata": {
        "colab": {
          "base_uri": "https://localhost:8080/"
        },
        "id": "Gqqv9ZOuC756",
        "outputId": "635a16e1-669b-4f52-87a5-1e7791e516ab"
      },
      "execution_count": null,
      "outputs": [
        {
          "output_type": "stream",
          "name": "stdout",
          "text": [
            "Collecting langdetect\n",
            "  Downloading langdetect-1.0.9.tar.gz (981 kB)\n",
            "\u001b[?25l\r\u001b[K     |▍                               | 10 kB 35.2 MB/s eta 0:00:01\r\u001b[K     |▊                               | 20 kB 38.9 MB/s eta 0:00:01\r\u001b[K     |█                               | 30 kB 32.3 MB/s eta 0:00:01\r\u001b[K     |█▍                              | 40 kB 25.0 MB/s eta 0:00:01\r\u001b[K     |█▊                              | 51 kB 28.5 MB/s eta 0:00:01\r\u001b[K     |██                              | 61 kB 32.4 MB/s eta 0:00:01\r\u001b[K     |██▍                             | 71 kB 24.5 MB/s eta 0:00:01\r\u001b[K     |██▊                             | 81 kB 25.9 MB/s eta 0:00:01\r\u001b[K     |███                             | 92 kB 28.0 MB/s eta 0:00:01\r\u001b[K     |███▍                            | 102 kB 29.5 MB/s eta 0:00:01\r\u001b[K     |███▊                            | 112 kB 29.5 MB/s eta 0:00:01\r\u001b[K     |████                            | 122 kB 29.5 MB/s eta 0:00:01\r\u001b[K     |████▍                           | 133 kB 29.5 MB/s eta 0:00:01\r\u001b[K     |████▊                           | 143 kB 29.5 MB/s eta 0:00:01\r\u001b[K     |█████                           | 153 kB 29.5 MB/s eta 0:00:01\r\u001b[K     |█████▍                          | 163 kB 29.5 MB/s eta 0:00:01\r\u001b[K     |█████▊                          | 174 kB 29.5 MB/s eta 0:00:01\r\u001b[K     |██████                          | 184 kB 29.5 MB/s eta 0:00:01\r\u001b[K     |██████▍                         | 194 kB 29.5 MB/s eta 0:00:01\r\u001b[K     |██████▊                         | 204 kB 29.5 MB/s eta 0:00:01\r\u001b[K     |███████                         | 215 kB 29.5 MB/s eta 0:00:01\r\u001b[K     |███████▍                        | 225 kB 29.5 MB/s eta 0:00:01\r\u001b[K     |███████▊                        | 235 kB 29.5 MB/s eta 0:00:01\r\u001b[K     |████████                        | 245 kB 29.5 MB/s eta 0:00:01\r\u001b[K     |████████▍                       | 256 kB 29.5 MB/s eta 0:00:01\r\u001b[K     |████████▊                       | 266 kB 29.5 MB/s eta 0:00:01\r\u001b[K     |█████████                       | 276 kB 29.5 MB/s eta 0:00:01\r\u001b[K     |█████████▍                      | 286 kB 29.5 MB/s eta 0:00:01\r\u001b[K     |█████████▊                      | 296 kB 29.5 MB/s eta 0:00:01\r\u001b[K     |██████████                      | 307 kB 29.5 MB/s eta 0:00:01\r\u001b[K     |██████████▍                     | 317 kB 29.5 MB/s eta 0:00:01\r\u001b[K     |██████████▊                     | 327 kB 29.5 MB/s eta 0:00:01\r\u001b[K     |███████████                     | 337 kB 29.5 MB/s eta 0:00:01\r\u001b[K     |███████████▍                    | 348 kB 29.5 MB/s eta 0:00:01\r\u001b[K     |███████████▊                    | 358 kB 29.5 MB/s eta 0:00:01\r\u001b[K     |████████████                    | 368 kB 29.5 MB/s eta 0:00:01\r\u001b[K     |████████████▍                   | 378 kB 29.5 MB/s eta 0:00:01\r\u001b[K     |████████████▊                   | 389 kB 29.5 MB/s eta 0:00:01\r\u001b[K     |█████████████                   | 399 kB 29.5 MB/s eta 0:00:01\r\u001b[K     |█████████████▍                  | 409 kB 29.5 MB/s eta 0:00:01\r\u001b[K     |█████████████▊                  | 419 kB 29.5 MB/s eta 0:00:01\r\u001b[K     |██████████████                  | 430 kB 29.5 MB/s eta 0:00:01\r\u001b[K     |██████████████▍                 | 440 kB 29.5 MB/s eta 0:00:01\r\u001b[K     |██████████████▊                 | 450 kB 29.5 MB/s eta 0:00:01\r\u001b[K     |███████████████                 | 460 kB 29.5 MB/s eta 0:00:01\r\u001b[K     |███████████████▍                | 471 kB 29.5 MB/s eta 0:00:01\r\u001b[K     |███████████████▊                | 481 kB 29.5 MB/s eta 0:00:01\r\u001b[K     |████████████████                | 491 kB 29.5 MB/s eta 0:00:01\r\u001b[K     |████████████████▍               | 501 kB 29.5 MB/s eta 0:00:01\r\u001b[K     |████████████████▊               | 512 kB 29.5 MB/s eta 0:00:01\r\u001b[K     |█████████████████               | 522 kB 29.5 MB/s eta 0:00:01\r\u001b[K     |█████████████████▍              | 532 kB 29.5 MB/s eta 0:00:01\r\u001b[K     |█████████████████▊              | 542 kB 29.5 MB/s eta 0:00:01\r\u001b[K     |██████████████████              | 552 kB 29.5 MB/s eta 0:00:01\r\u001b[K     |██████████████████▍             | 563 kB 29.5 MB/s eta 0:00:01\r\u001b[K     |██████████████████▊             | 573 kB 29.5 MB/s eta 0:00:01\r\u001b[K     |███████████████████             | 583 kB 29.5 MB/s eta 0:00:01\r\u001b[K     |███████████████████▍            | 593 kB 29.5 MB/s eta 0:00:01\r\u001b[K     |███████████████████▊            | 604 kB 29.5 MB/s eta 0:00:01\r\u001b[K     |████████████████████            | 614 kB 29.5 MB/s eta 0:00:01\r\u001b[K     |████████████████████▍           | 624 kB 29.5 MB/s eta 0:00:01\r\u001b[K     |████████████████████▊           | 634 kB 29.5 MB/s eta 0:00:01\r\u001b[K     |█████████████████████           | 645 kB 29.5 MB/s eta 0:00:01\r\u001b[K     |█████████████████████▍          | 655 kB 29.5 MB/s eta 0:00:01\r\u001b[K     |█████████████████████▊          | 665 kB 29.5 MB/s eta 0:00:01\r\u001b[K     |██████████████████████          | 675 kB 29.5 MB/s eta 0:00:01\r\u001b[K     |██████████████████████▍         | 686 kB 29.5 MB/s eta 0:00:01\r\u001b[K     |██████████████████████▊         | 696 kB 29.5 MB/s eta 0:00:01\r\u001b[K     |███████████████████████         | 706 kB 29.5 MB/s eta 0:00:01\r\u001b[K     |███████████████████████▍        | 716 kB 29.5 MB/s eta 0:00:01\r\u001b[K     |███████████████████████▊        | 727 kB 29.5 MB/s eta 0:00:01\r\u001b[K     |████████████████████████        | 737 kB 29.5 MB/s eta 0:00:01\r\u001b[K     |████████████████████████▍       | 747 kB 29.5 MB/s eta 0:00:01\r\u001b[K     |████████████████████████▊       | 757 kB 29.5 MB/s eta 0:00:01\r\u001b[K     |█████████████████████████       | 768 kB 29.5 MB/s eta 0:00:01\r\u001b[K     |█████████████████████████▍      | 778 kB 29.5 MB/s eta 0:00:01\r\u001b[K     |█████████████████████████▊      | 788 kB 29.5 MB/s eta 0:00:01\r\u001b[K     |██████████████████████████      | 798 kB 29.5 MB/s eta 0:00:01\r\u001b[K     |██████████████████████████▍     | 808 kB 29.5 MB/s eta 0:00:01\r\u001b[K     |██████████████████████████▊     | 819 kB 29.5 MB/s eta 0:00:01\r\u001b[K     |███████████████████████████     | 829 kB 29.5 MB/s eta 0:00:01\r\u001b[K     |███████████████████████████▍    | 839 kB 29.5 MB/s eta 0:00:01\r\u001b[K     |███████████████████████████▊    | 849 kB 29.5 MB/s eta 0:00:01\r\u001b[K     |████████████████████████████    | 860 kB 29.5 MB/s eta 0:00:01\r\u001b[K     |████████████████████████████▍   | 870 kB 29.5 MB/s eta 0:00:01\r\u001b[K     |████████████████████████████▊   | 880 kB 29.5 MB/s eta 0:00:01\r\u001b[K     |█████████████████████████████   | 890 kB 29.5 MB/s eta 0:00:01\r\u001b[K     |█████████████████████████████▍  | 901 kB 29.5 MB/s eta 0:00:01\r\u001b[K     |█████████████████████████████▊  | 911 kB 29.5 MB/s eta 0:00:01\r\u001b[K     |██████████████████████████████  | 921 kB 29.5 MB/s eta 0:00:01\r\u001b[K     |██████████████████████████████▍ | 931 kB 29.5 MB/s eta 0:00:01\r\u001b[K     |██████████████████████████████▊ | 942 kB 29.5 MB/s eta 0:00:01\r\u001b[K     |███████████████████████████████ | 952 kB 29.5 MB/s eta 0:00:01\r\u001b[K     |███████████████████████████████▍| 962 kB 29.5 MB/s eta 0:00:01\r\u001b[K     |███████████████████████████████▊| 972 kB 29.5 MB/s eta 0:00:01\r\u001b[K     |████████████████████████████████| 981 kB 29.5 MB/s \n",
            "\u001b[?25hRequirement already satisfied: six in /usr/local/lib/python3.7/dist-packages (from langdetect) (1.15.0)\n",
            "Building wheels for collected packages: langdetect\n",
            "  Building wheel for langdetect (setup.py) ... \u001b[?25l\u001b[?25hdone\n",
            "  Created wheel for langdetect: filename=langdetect-1.0.9-py3-none-any.whl size=993242 sha256=0d0a59812f2e8b7fedc817b6cbe5153d33e9048db3c9e310bf7e86f91b6aebb4\n",
            "  Stored in directory: /root/.cache/pip/wheels/c5/96/8a/f90c59ed25d75e50a8c10a1b1c2d4c402e4dacfa87f3aff36a\n",
            "Successfully built langdetect\n",
            "Installing collected packages: langdetect\n",
            "Successfully installed langdetect-1.0.9\n"
          ]
        }
      ]
    },
    {
      "cell_type": "code",
      "execution_count": null,
      "metadata": {
        "id": "mWRCL_QH4kZA"
      },
      "outputs": [],
      "source": [
        "from langdetect import detect, DetectorFactory\n",
        "DetectorFactory.seed = 0\n",
        "\n",
        "def get_languages(speech_list):\n",
        "  lang = []\n",
        "  for speech in speech_list:\n",
        "    lang.append(detect(speech))\n",
        "  return np.array(lang)"
      ]
    },
    {
      "cell_type": "code",
      "execution_count": null,
      "metadata": {
        "colab": {
          "base_uri": "https://localhost:8080/"
        },
        "id": "dz_J3I5KPHXV",
        "outputId": "9f1d65fd-6228-4e49-c254-4f4975cadd90"
      },
      "outputs": [
        {
          "output_type": "stream",
          "name": "stdout",
          "text": [
            "FED speeches language : (array(['de', 'en', 'es', 'fr'], dtype='<U2'), array([ 10, 399,   4,   4]))\n",
            "ECB speeches language : (array(['de', 'en', 'es', 'fr', 'it'], dtype='<U2'), array([  45, 1197,   12,    5,    3]))\n"
          ]
        }
      ],
      "source": [
        "lang_fed_vix = get_languages(fed_speech_vix)\n",
        "lang_ecb_vix = get_languages(ecb_speech_vix)\n",
        "print(f\"FED speeches language : {np.unique(lang_fed_vix, return_counts=True)}\")\n",
        "print(f\"ECB speeches language : {np.unique(lang_ecb_vix, return_counts=True)}\")"
      ]
    },
    {
      "cell_type": "code",
      "source": [
        "lang_fed_eur = get_languages(fed_speech_eur)\n",
        "lang_ecb_eur = get_languages(ecb_speech_eur)\n",
        "print(f\"FED speeches language : {np.unique(lang_fed_eur, return_counts=True)}\")\n",
        "print(f\"ECB speeches language : {np.unique(lang_ecb_eur, return_counts=True)}\")"
      ],
      "metadata": {
        "colab": {
          "base_uri": "https://localhost:8080/"
        },
        "id": "jXfYPcVm4Bqz",
        "outputId": "8b103f08-7ed3-4fde-ffed-2917d045d3c5"
      },
      "execution_count": null,
      "outputs": [
        {
          "output_type": "stream",
          "name": "stdout",
          "text": [
            "FED speeches language : (array(['de', 'en', 'es', 'fr'], dtype='<U2'), array([ 10, 399,   4,   4]))\n",
            "ECB speeches language : (array(['de', 'en', 'es', 'fr', 'it'], dtype='<U2'), array([  45, 1197,   12,    5,    3]))\n"
          ]
        }
      ]
    },
    {
      "cell_type": "markdown",
      "metadata": {
        "id": "CodBvOmGHHlQ"
      },
      "source": [
        "#### Delete speeches with other languages"
      ]
    },
    {
      "cell_type": "code",
      "execution_count": null,
      "metadata": {
        "colab": {
          "base_uri": "https://localhost:8080/"
        },
        "id": "Hqs8lpUzHHM8",
        "outputId": "5fa60425-b168-47b2-e02e-6c0b9de6effa"
      },
      "outputs": [
        {
          "output_type": "stream",
          "name": "stdout",
          "text": [
            "1197\n",
            "399\n"
          ]
        }
      ],
      "source": [
        "fed_speech_vix = np.array(fed_speech_vix)[lang_fed_vix == 'en']\n",
        "ecb_speech_vix = np.array(ecb_speech_vix)[lang_ecb_vix == 'en']\n",
        "\n",
        "fed_speech_eur = np.array(fed_speech_eur)[lang_fed_eur == 'en']\n",
        "ecb_speech_eur = np.array(ecb_speech_eur)[lang_ecb_eur == 'en']\n",
        "\n",
        "print(len(ecb_speech_vix))\n",
        "print(len(fed_speech_vix))"
      ]
    },
    {
      "cell_type": "code",
      "execution_count": null,
      "metadata": {
        "id": "DMd6YrEnPHXa"
      },
      "outputs": [],
      "source": [
        "fed_speech_vix = list(fed_speech_vix)\n",
        "ecb_speech_vix = list(ecb_speech_vix)\n",
        "\n",
        "fed_speech_eur = list(fed_speech_eur)\n",
        "ecb_speech_eur = list(ecb_speech_eur)\n",
        "\n",
        "X_train_vix, y_train_vix = build_dataset(train_vix, fed_list=fed_speech_vix, ecb_list=ecb_speech_vix)\n",
        "X_train_eur, y_train_eur = build_dataset(train_eur, fed_list=fed_speech_eur, ecb_list=ecb_speech_eur)"
      ]
    },
    {
      "cell_type": "markdown",
      "metadata": {
        "id": "3DtpRUuYRZvz",
        "tags": []
      },
      "source": [
        "## Summarization"
      ]
    },
    {
      "cell_type": "markdown",
      "metadata": {
        "id": "mjQV50OJ-VcF",
        "tags": []
      },
      "source": [
        "### 1/ With NLTK, using basic sentences scores "
      ]
    },
    {
      "cell_type": "code",
      "execution_count": null,
      "metadata": {
        "id": "wj0JkzIp3Zhq",
        "colab": {
          "base_uri": "https://localhost:8080/"
        },
        "outputId": "52746406-5f6e-4288-fbce-90566a169ca6"
      },
      "outputs": [
        {
          "output_type": "stream",
          "name": "stdout",
          "text": [
            "[nltk_data] Downloading package punkt to /root/nltk_data...\n",
            "[nltk_data]   Unzipping tokenizers/punkt.zip.\n",
            "[nltk_data] Downloading package stopwords to /root/nltk_data...\n",
            "[nltk_data]   Unzipping corpora/stopwords.zip.\n"
          ]
        }
      ],
      "source": [
        "import nltk\n",
        "nltk.download('punkt')\n",
        "nltk.download('stopwords')\n",
        "from nltk.corpus import stopwords"
      ]
    },
    {
      "cell_type": "markdown",
      "metadata": {
        "tags": [],
        "id": "aKx8ZXf8PHXd"
      },
      "source": [
        "#### Get best k sentences based on word frequencies"
      ]
    },
    {
      "cell_type": "code",
      "execution_count": null,
      "metadata": {
        "colab": {
          "base_uri": "https://localhost:8080/",
          "height": 163
        },
        "id": "LWe0lF8kRdZ1",
        "outputId": "db17fb6d-2eee-4018-d342-53f942d43482"
      },
      "outputs": [
        {
          "output_type": "execute_result",
          "data": {
            "text/plain": [
              "'Jiménez, G., Ongena, S., Peydró and J. Saurina (2011), Macroprudential Policy, Countercyclical Bank Capital Buffers and Credit Supply: Evidence from the Spanish Dynamic Provisioning Experiments, Bank of Spain mimeo. Hellmann, T., Murdock, K. and J. Stiglitz (2000), Liberalization, Moral Hazard in Banking, and Prudential Regulation: Are Capital Requirements Enough?, American Economic Review. [5]See Mian and Sufi (2009); Maddaloni and Peydró (2011); Jiménez, Mian, Peydró and Sufi (2011), Altunbas, Marqués and Gambacorta (2010). Banks’ capital reserves, transparency, funding, risk management, corporate governance and both micro and, especially, macro supervision and regulation need to be adjusted. On that same subject, we should welcome the changes made to EU and global banking regulations and supervision, both micro and macro-based: for example, the Basel III package of regulations (level and quality of capital, countercyclical buffers of capital, liquidity ratio. Matutes, C. and X. Vives (2000), Imperfect competition, risk taking, and regulation in banking, European Economic Review. To be specific, changes in the business models and the restructuring of some banks, more and higher-quality bank capital, better risk management, improved transparency and corporate governance, as well as changes in banking regulations and supervision – all these factors will contribute towards sustainable economic growth. Altunbas, Y., Marqués, G. and L. Gambacorta (2010), Securitisation and the bank lending channel, European Economic Review. [2]  Expansion abroad, when it is well executed, definitely brings benefits in terms of geographical diversification, which have become clear during the crisis, however a reliance on funding from abroad may bring some fragility if that source of liquidity dries up, as the crisis has shown. Jiménez, G., Mian, A., Peydró, J.L. Jiménez, G., Ongena, S., Peydró, J.L. Jiménez, G., Ongena, S., Peydró-Alcalde, J.L.'"
            ],
            "application/vnd.google.colaboratory.intrinsic+json": {
              "type": "string"
            }
          },
          "metadata": {},
          "execution_count": 73
        }
      ],
      "source": [
        "from nltk.tokenize import sent_tokenize, word_tokenize\n",
        "from nltk.corpus import stopwords\n",
        "\n",
        "def weight_freq(speech):\n",
        "    stop_words = stopwords.words('english')\n",
        "    word_frequencies = {}\n",
        "    for word in word_tokenize(speech):\n",
        "        if word not in stop_words:\n",
        "            if word not in word_frequencies.keys():\n",
        "                word_frequencies[word] = 1\n",
        "            else:\n",
        "                word_frequencies[word] += 1\n",
        "\n",
        "    maximum_frequncy = max(word_frequencies.values())\n",
        "    for word in word_frequencies.keys():\n",
        "        word_frequencies[word] = (word_frequencies[word]/maximum_frequncy)\n",
        "\n",
        "    return word_frequencies\n",
        "\n",
        "\n",
        "def sent_score(sent_speech, word_freq):\n",
        "    sentence_scores = {}\n",
        "    for sent in sent_speech:\n",
        "        for word in word_tokenize(sent.lower()):\n",
        "            if word in word_freq.keys():\n",
        "                if len(sent.split(' ')) < 50:\n",
        "                    if sent not in sentence_scores.keys():\n",
        "                        sentence_scores[sent] = word_freq[word]\n",
        "                    else:\n",
        "                        sentence_scores[sent] += word_freq[word]\n",
        "    return sentence_scores\n",
        "\n",
        "import heapq\n",
        "\n",
        "def get_summary(sent_scores, top_sent):\n",
        "    summary_sentences = heapq.nlargest(top_sent, sent_scores, key=sent_scores.get)\n",
        "    summary = ' '.join(summary_sentences)\n",
        "    return summary\n",
        "\n",
        "def summarize(speech, top_sent=8):\n",
        "    word_freq = weight_freq(speech)\n",
        "    scores_sent = sent_score(sent_tokenize(speech), word_freq)\n",
        "    summ = get_summary(scores_sent, top_sent)\n",
        "\n",
        "    return summ\n",
        "\n",
        "# example with one speech\n",
        "se = 0\n",
        "s = summarize(fed_speech_vix[se], 12)\n",
        "s"
      ]
    },
    {
      "cell_type": "markdown",
      "metadata": {
        "id": "sNBBXdUWIVj8",
        "tags": []
      },
      "source": [
        "#### Compute a summary for each speech :"
      ]
    },
    {
      "cell_type": "code",
      "execution_count": null,
      "metadata": {
        "id": "yece2RxKDRxN"
      },
      "outputs": [],
      "source": [
        "fed_speech_sum_vix = []\n",
        "ecb_speech_sum_vix = []\n",
        "\n",
        "banks = ['ECB', 'FED']\n",
        "\n",
        "# ~2min run\n",
        "for b in banks:\n",
        "    for speech in eval(b.lower()+\"_speech_vix\"):\n",
        "        eval(b.lower()+\"_speech_sum_vix\").append(summarize(speech, 12))"
      ]
    },
    {
      "cell_type": "code",
      "execution_count": null,
      "metadata": {
        "id": "CxL7O3Q_I1BC"
      },
      "outputs": [],
      "source": [
        "fed_speech_sum_eur = []\n",
        "ecb_speech_sum_eur = []\n",
        "\n",
        "banks = ['ECB', 'FED']\n",
        "\n",
        "# ~2min run\n",
        "for b in banks:\n",
        "    for speech in eval(b.lower()+\"_speech_eur\"):\n",
        "        eval(b.lower()+\"_speech_sum_eur\").append(summarize(speech, 12))"
      ]
    },
    {
      "cell_type": "markdown",
      "source": [
        "Test set"
      ],
      "metadata": {
        "id": "XZ60By4H5zy8"
      }
    },
    {
      "cell_type": "code",
      "source": [
        "test_fed_speech_sum_vix = []\n",
        "test_ecb_speech_sum_vix = []\n",
        "\n",
        "banks = ['ECB', 'FED']\n",
        "\n",
        "# ~2min run\n",
        "for b in banks:\n",
        "    for speech in eval(\"test_\"+b.lower()+\"_speech_vix\"):\n",
        "        eval(\"test_\"+b.lower()+\"_speech_sum_vix\").append(summarize(speech, 12))"
      ],
      "metadata": {
        "id": "30T02PYsXGzy"
      },
      "execution_count": null,
      "outputs": []
    },
    {
      "cell_type": "code",
      "source": [
        "test_fed_speech_sum_eur = []\n",
        "test_ecb_speech_sum_eur = []\n",
        "\n",
        "banks = ['ECB', 'FED']\n",
        "\n",
        "# ~2min run\n",
        "for b in banks:\n",
        "    for speech in eval(\"test_\"+b.lower()+\"_speech_eur\"):\n",
        "        eval(\"test_\"+b.lower()+\"_speech_sum_eur\").append(summarize(speech, 12))"
      ],
      "metadata": {
        "id": "kMRZifD-XVTY"
      },
      "execution_count": null,
      "outputs": []
    },
    {
      "cell_type": "markdown",
      "metadata": {
        "id": "edqVUF4oUbHW",
        "tags": []
      },
      "source": [
        "## Embeddings"
      ]
    },
    {
      "cell_type": "markdown",
      "metadata": {
        "tags": [],
        "id": "jbwvLDHlPHXs"
      },
      "source": [
        "### Compute embeddings with sentence transformers"
      ]
    },
    {
      "cell_type": "code",
      "source": [
        "%%capture\n",
        "!pip install sentence_transformers"
      ],
      "metadata": {
        "id": "eO9XXF_OQvlN"
      },
      "execution_count": null,
      "outputs": []
    },
    {
      "cell_type": "code",
      "source": [
        "from sentence_transformers import SentenceTransformer\n",
        "\n",
        "def get_embeddings(model_name, speech_list, max_length, verbose=True):\n",
        "\n",
        "    embeddings = []\n",
        "    device = torch.device('cuda') if torch.cuda.is_available() else torch.device('cpu')\n",
        "    model = SentenceTransformer(model_name, device=device)\n",
        "    model.max_seq_length = max_length\n",
        "    for speech in speech_list:\n",
        "      sentences = sent_tokenize(speech)\n",
        "      embeddings.append(model.encode(sentences, convert_to_numpy=True, \n",
        "                                     batch_size=128, show_progress_bar=verbose))\n",
        "    return embeddings\n"
      ],
      "metadata": {
        "id": "TAR4nbK4Kxzb"
      },
      "execution_count": null,
      "outputs": []
    },
    {
      "cell_type": "code",
      "source": [
        "model_name = 'msmarco-MiniLM-L-6-v3'\n",
        "\n",
        "fed_sentences_embeddings_eur = get_embeddings(model_name, fed_speech_eur, 512, verbose=False)\n",
        "ecb_sentences_embeddings_eur = get_embeddings(model_name, ecb_speech_eur, 512, verbose=False)"
      ],
      "metadata": {
        "id": "pjgOelxBYaxU"
      },
      "execution_count": null,
      "outputs": []
    },
    {
      "cell_type": "code",
      "source": [
        "from sentence_transformers import util\n",
        "\n",
        "model_name = 'msmarco-MiniLM-L-6-v3'\n",
        "model = SentenceTransformer(model_name)\n",
        "query = model.encode('Will the stock market index value go up or down, what is the trend ?')\n",
        "\n",
        "top_sentences = []\n",
        "top_scores, true_sent = [], []\n",
        "all_sentences = fed_sentences_embeddings_eur + ecb_sentences_embeddings_eur\n",
        "all_speech = fed_speech_eur + ecb_speech_eur\n",
        "for i, speech in enumerate(all_sentences):\n",
        "  sents = sent_tokenize(all_speech[i])\n",
        "  scores = util.cos_sim(query, speech)\n",
        "  if scores.size(1) >= 5:\n",
        "    cosine, indices = torch.topk(scores, 5)\n",
        "    indices = indices.tolist()[0]\n",
        "  else:\n",
        "    indices = [0] * 5\n",
        "  top_scores.append(cosine.tolist()[0])\n",
        "  top_sentences.append(np.take(speech, indices, axis=0))\n",
        "  true_sent.append([sents[idx] for idx in indices])"
      ],
      "metadata": {
        "id": "XABYMRPgPLhh"
      },
      "execution_count": null,
      "outputs": []
    },
    {
      "cell_type": "code",
      "source": [
        "final_embeddings = np.array(top_sentences)\n",
        "final_embeddings.shape"
      ],
      "metadata": {
        "colab": {
          "base_uri": "https://localhost:8080/"
        },
        "id": "KS85Rv8VukjN",
        "outputId": "09ef5c58-5527-4e7b-862c-d323ee217b82"
      },
      "execution_count": null,
      "outputs": [
        {
          "output_type": "execute_result",
          "data": {
            "text/plain": [
              "(1596, 5, 384)"
            ]
          },
          "metadata": {},
          "execution_count": 149
        }
      ]
    },
    {
      "cell_type": "code",
      "source": [
        "final_cosine = np.array(top_scores)\n",
        "final_cosine.shape"
      ],
      "metadata": {
        "colab": {
          "base_uri": "https://localhost:8080/"
        },
        "id": "Od3amjK_rvm6",
        "outputId": "ee777c72-ccd5-4f82-fddf-a2c74e15462f"
      },
      "execution_count": null,
      "outputs": [
        {
          "output_type": "execute_result",
          "data": {
            "text/plain": [
              "(1596, 5)"
            ]
          },
          "metadata": {},
          "execution_count": 150
        }
      ]
    },
    {
      "cell_type": "markdown",
      "source": [
        "test set"
      ],
      "metadata": {
        "id": "ETuGjvhy82sn"
      }
    },
    {
      "cell_type": "code",
      "source": [
        "model_name = 'msmarco-MiniLM-L-6-v3'\n",
        "\n",
        "test_fed_sentences_embeddings_eur = get_embeddings(model_name, test_fed_speech_eur, 512, verbose=False)\n",
        "test_ecb_sentences_embeddings_eur = get_embeddings(model_name, test_ecb_speech_eur, 512, verbose=False)"
      ],
      "metadata": {
        "id": "CP-tKwy4YK4z"
      },
      "execution_count": null,
      "outputs": []
    },
    {
      "cell_type": "code",
      "source": [
        "from sentence_transformers import util\n",
        "\n",
        "model_name = 'msmarco-MiniLM-L-6-v3'\n",
        "model = SentenceTransformer(model_name)\n",
        "query = model.encode('Will the stock market index value go up or down, what is the trend ?')\n",
        "\n",
        "test_top_sentences = []\n",
        "test_top_scores, test_true_sent = [], []\n",
        "all_sentences = test_fed_sentences_embeddings_eur + test_ecb_sentences_embeddings_eur\n",
        "all_speech = test_fed_speech_eur + test_ecb_speech_eur\n",
        "for i, speech in enumerate(all_sentences):\n",
        "  sents = sent_tokenize(all_speech[i])\n",
        "  scores = util.cos_sim(query, speech)\n",
        "  if scores.size(1) >= 5:\n",
        "    cosine, indices = torch.topk(scores, 5)\n",
        "    indices = indices.tolist()[0]\n",
        "  else:\n",
        "    indices = [0] * 5\n",
        "  test_top_scores.append(cosine.tolist()[0])\n",
        "  test_top_sentences.append(np.take(speech, indices, axis=0))\n",
        "  test_true_sent.append([sents[idx] for idx in indices])"
      ],
      "metadata": {
        "id": "Q3zXD9BOZT1M"
      },
      "execution_count": null,
      "outputs": []
    },
    {
      "cell_type": "code",
      "source": [
        "test_final_embeddings = np.array(test_top_sentences)\n",
        "test_final_embeddings.shape"
      ],
      "metadata": {
        "colab": {
          "base_uri": "https://localhost:8080/"
        },
        "id": "ckQnT6V2Zcmm",
        "outputId": "8a2cd4ea-de42-4550-81d4-0a1b2899b884"
      },
      "execution_count": null,
      "outputs": [
        {
          "output_type": "execute_result",
          "data": {
            "text/plain": [
              "(262, 5, 384)"
            ]
          },
          "metadata": {},
          "execution_count": 153
        }
      ]
    },
    {
      "cell_type": "code",
      "source": [
        "test_final_cosine = np.array(test_top_scores)\n",
        "test_final_cosine.shape"
      ],
      "metadata": {
        "colab": {
          "base_uri": "https://localhost:8080/"
        },
        "id": "eeUgcSfG-CxU",
        "outputId": "b8d71576-2d5c-4fe1-ec33-7b36bc90bedb"
      },
      "execution_count": null,
      "outputs": [
        {
          "output_type": "execute_result",
          "data": {
            "text/plain": [
              "(262, 5)"
            ]
          },
          "metadata": {},
          "execution_count": 154
        }
      ]
    },
    {
      "cell_type": "markdown",
      "metadata": {
        "id": "6YlpX52-dicP"
      },
      "source": [
        "### Save embeddings "
      ]
    },
    {
      "cell_type": "code",
      "source": [
        "with open('final_embed.npy', 'wb') as f:\n",
        "  np.save(f, final_embeddings)"
      ],
      "metadata": {
        "id": "ArQfS-9Nyx3N"
      },
      "execution_count": null,
      "outputs": []
    },
    {
      "cell_type": "code",
      "source": [
        "with open('final_cosine.npy', 'wb') as f:\n",
        "  np.save(f, final_cosine)"
      ],
      "metadata": {
        "id": "czP5nF3PM8J_"
      },
      "execution_count": null,
      "outputs": []
    },
    {
      "cell_type": "code",
      "source": [
        "with open('test_final_embed.npy', 'wb') as f:\n",
        "  np.save(f, test_final_embeddings)"
      ],
      "metadata": {
        "id": "pRSWUXaKZnUa"
      },
      "execution_count": null,
      "outputs": []
    },
    {
      "cell_type": "code",
      "source": [
        "with open('test_final_cosine.npy', 'wb') as f:\n",
        "  np.save(f, test_final_cosine)"
      ],
      "metadata": {
        "id": "mhMWaMcF9ag6"
      },
      "execution_count": null,
      "outputs": []
    },
    {
      "cell_type": "markdown",
      "source": [
        "## Perform classification on speeches"
      ],
      "metadata": {
        "id": "Oy39d29KIX-8"
      }
    },
    {
      "cell_type": "markdown",
      "source": [
        "### Using a sentiment analysis pipeline on summaries"
      ],
      "metadata": {
        "id": "QNfIEyPKXU8L"
      }
    },
    {
      "cell_type": "code",
      "source": [
        "!pip install transformers"
      ],
      "metadata": {
        "id": "66QlzzrL7_Sh"
      },
      "execution_count": null,
      "outputs": []
    },
    {
      "cell_type": "code",
      "source": [
        "from transformers import pipeline\n",
        "\n",
        "model = \"mrm8488/distilroberta-finetuned-financial-news-sentiment-analysis\"\n",
        "clf = pipeline(\"sentiment-analysis\", model=model, truncation=True)\n",
        "res_fed_eur = clf(fed_speech_sum_eur)\n",
        "res_ecb_eur = clf(ecb_speech_sum_eur)"
      ],
      "metadata": {
        "id": "EAu9qxNCRAyt"
      },
      "execution_count": null,
      "outputs": []
    },
    {
      "cell_type": "code",
      "source": [
        "def convert_sentiment(res):\n",
        "  labels = []\n",
        "  for dico in res:\n",
        "    if dico['label'] == 'neutral':\n",
        "      labels.append(0)\n",
        "    elif dico['label'] == 'positive':\n",
        "      labels.append(1)\n",
        "    else:\n",
        "      labels.append(-1)\n",
        "  return labels\n",
        "\n",
        "y_fed_fine_eur = convert_sentiment(res_fed_eur)\n",
        "y_ecb_fine_eur = convert_sentiment(res_ecb_eur)"
      ],
      "metadata": {
        "id": "l-GvxIemVnD7"
      },
      "execution_count": null,
      "outputs": []
    },
    {
      "cell_type": "code",
      "source": [
        "final_y_fine = np.array(y_fed_fine_eur + y_ecb_fine_eur)\n",
        "final_y_fine.shape"
      ],
      "metadata": {
        "colab": {
          "base_uri": "https://localhost:8080/"
        },
        "id": "vgpBiQJNgAvH",
        "outputId": "06b13c80-ad05-4ec6-dde2-c398b039d15a"
      },
      "execution_count": null,
      "outputs": [
        {
          "output_type": "execute_result",
          "data": {
            "text/plain": [
              "(1596,)"
            ]
          },
          "metadata": {},
          "execution_count": 161
        }
      ]
    },
    {
      "cell_type": "code",
      "source": [
        "with open('final_y_fine.npy', 'wb') as f:\n",
        "  np.save(f, final_y_fine)"
      ],
      "metadata": {
        "id": "-mk3lquoBYOB"
      },
      "execution_count": null,
      "outputs": []
    },
    {
      "cell_type": "markdown",
      "source": [
        "Test set"
      ],
      "metadata": {
        "id": "a-5NqzM7Cy6g"
      }
    },
    {
      "cell_type": "code",
      "source": [
        "test_res_fed_eur = clf(test_fed_speech_sum_eur)\n",
        "test_res_ecb_eur = clf(test_ecb_speech_sum_eur)"
      ],
      "metadata": {
        "id": "RUNMXzYVfSq2"
      },
      "execution_count": null,
      "outputs": []
    },
    {
      "cell_type": "code",
      "source": [
        "test_y_fed_fine_eur = convert_sentiment(test_res_fed_eur)\n",
        "test_y_ecb_fine_eur = convert_sentiment(test_res_ecb_eur)"
      ],
      "metadata": {
        "id": "cPmpdX12lmgR"
      },
      "execution_count": null,
      "outputs": []
    },
    {
      "cell_type": "code",
      "source": [
        "test_final_y_fine = np.array(test_y_fed_fine_eur + test_y_ecb_fine_eur)\n",
        "test_final_y_fine.shape"
      ],
      "metadata": {
        "colab": {
          "base_uri": "https://localhost:8080/"
        },
        "id": "8hzqW1VNCoxT",
        "outputId": "214da7cb-cefe-4f64-e511-5aed2a8564c0"
      },
      "execution_count": null,
      "outputs": [
        {
          "output_type": "execute_result",
          "data": {
            "text/plain": [
              "(262,)"
            ]
          },
          "metadata": {},
          "execution_count": 165
        }
      ]
    },
    {
      "cell_type": "code",
      "source": [
        "with open('test_final_y_fine.npy', 'wb') as f:\n",
        "  np.save(f, test_final_y_fine)"
      ],
      "metadata": {
        "id": "qrDrAHBXCurQ"
      },
      "execution_count": null,
      "outputs": []
    },
    {
      "cell_type": "markdown",
      "source": [
        "### Classifiy pre selected sentences"
      ],
      "metadata": {
        "id": "AbYb_fJsNNzH"
      }
    },
    {
      "cell_type": "code",
      "source": [
        "model = \"mrm8488/distilroberta-finetuned-financial-news-sentiment-analysis\"\n",
        "clf = pipeline(\"sentiment-analysis\", model=model, truncation=True)\n",
        "sentiments = []\n",
        "for sentences in true_sent:\n",
        "  res = clf(sentences)\n",
        "  sentiments.append(\n",
        "      convert_sentiment(res)\n",
        "  )"
      ],
      "metadata": {
        "id": "VyNuls5DNcE4"
      },
      "execution_count": null,
      "outputs": []
    },
    {
      "cell_type": "code",
      "source": [
        "for i, seq in enumerate(sentiments):\n",
        "  if len(seq)==0:\n",
        "    sentiments[i] = [0] * 5"
      ],
      "metadata": {
        "id": "18GlisqWTIMi"
      },
      "execution_count": null,
      "outputs": []
    },
    {
      "cell_type": "code",
      "source": [
        "final_sentiments = np.array(sentiments)\n",
        "final_sentiments.shape"
      ],
      "metadata": {
        "colab": {
          "base_uri": "https://localhost:8080/"
        },
        "id": "Lh6_UJICOKvN",
        "outputId": "fcfc1a15-012f-479e-968c-b3886db0b2d8"
      },
      "execution_count": null,
      "outputs": [
        {
          "output_type": "execute_result",
          "data": {
            "text/plain": [
              "(1596, 5)"
            ]
          },
          "metadata": {},
          "execution_count": 169
        }
      ]
    },
    {
      "cell_type": "code",
      "source": [
        "with open('final_sentiments.npy', 'wb') as f:\n",
        "  np.save(f, final_sentiments)"
      ],
      "metadata": {
        "id": "hmtlwLBhOWLn"
      },
      "execution_count": null,
      "outputs": []
    },
    {
      "cell_type": "markdown",
      "source": [
        "Test set"
      ],
      "metadata": {
        "id": "tgkyKuYcC-HH"
      }
    },
    {
      "cell_type": "code",
      "source": [
        "model = \"mrm8488/distilroberta-finetuned-financial-news-sentiment-analysis\"\n",
        "clf = pipeline(\"sentiment-analysis\", model=model, truncation=True)\n",
        "test_sentiments = []\n",
        "for sentences in test_true_sent:\n",
        "  res = clf(sentences)\n",
        "  test_sentiments.append(\n",
        "      convert_sentiment(res)\n",
        "  )"
      ],
      "metadata": {
        "id": "SaEablkXC_jc"
      },
      "execution_count": null,
      "outputs": []
    },
    {
      "cell_type": "code",
      "source": [
        "for i, seq in enumerate(test_sentiments):\n",
        "  if len(seq)==0:\n",
        "    test_sentiments[i] = [0] * 5"
      ],
      "metadata": {
        "id": "0hk5XL6zDLvD"
      },
      "execution_count": null,
      "outputs": []
    },
    {
      "cell_type": "code",
      "source": [
        "test_final_sentiments = np.array(test_sentiments)\n",
        "test_final_sentiments.shape"
      ],
      "metadata": {
        "colab": {
          "base_uri": "https://localhost:8080/"
        },
        "id": "rCAjwagVDODE",
        "outputId": "eea5ad1d-2668-4396-ed33-23982b67efa7"
      },
      "execution_count": null,
      "outputs": [
        {
          "output_type": "execute_result",
          "data": {
            "text/plain": [
              "(262, 5)"
            ]
          },
          "metadata": {},
          "execution_count": 173
        }
      ]
    },
    {
      "cell_type": "code",
      "source": [
        "with open('test_final_sentiments.npy', 'wb') as f:\n",
        "  np.save(f, test_final_sentiments)"
      ],
      "metadata": {
        "id": "HSn0auaYDSs0"
      },
      "execution_count": null,
      "outputs": []
    },
    {
      "cell_type": "markdown",
      "metadata": {
        "tags": [],
        "id": "FCPDMz3wPHX8"
      },
      "source": [
        "## Prepare dataset"
      ]
    },
    {
      "cell_type": "code",
      "source": [
        "# Retrieve features VIX\n",
        "# train\n",
        "!pip install --upgrade --no-cache-dir gdown --quiet\n",
        "!gdown 1AqbEgGMaIIZVJGIXjaPHE6U4N-0Z99jq # embeddings\n",
        "!gdown 1jOKnlcT1q-XZ6ext3BBb4dN0N5okQLsS # sentiment summary\n",
        "!gdown 1kf8K43HbDEvnO8hA90kxa-f_dUKBKoN8 # setiment sentences pre selected\n",
        "!gdown 1gZmf8Hkd85rRKyUj0h5a0eWeDTGwUjrk # cosine scores of those\n",
        "\n",
        "# test\n",
        "!gdown 1VaLWPfxzrg-DQg-N7qdz9BMZPYEB5eau\n",
        "!gdown 1grzidEJebyqOmmcJG0dPgI-DRjHSlxN1\n",
        "!gdown 1GWoDmljmCMpGT_leyXbgIvoJFF0I6LFr\n",
        "!gdown 1WAdZfsfDI4DQqtBuk6rMkh94gsXPIMQe"
      ],
      "metadata": {
        "colab": {
          "base_uri": "https://localhost:8080/"
        },
        "id": "pg3FewJkOhZi",
        "outputId": "d8e546e0-b63c-4ba0-f49c-f5b8d1e225d4"
      },
      "execution_count": null,
      "outputs": [
        {
          "output_type": "stream",
          "name": "stdout",
          "text": [
            "Downloading...\n",
            "From: https://drive.google.com/uc?id=1AqbEgGMaIIZVJGIXjaPHE6U4N-0Z99jq\n",
            "To: /content/final_embed.npy\n",
            "100% 12.3M/12.3M [00:00<00:00, 73.4MB/s]\n",
            "Downloading...\n",
            "From: https://drive.google.com/uc?id=1jOKnlcT1q-XZ6ext3BBb4dN0N5okQLsS\n",
            "To: /content/final_y_fine.npy\n",
            "100% 12.9k/12.9k [00:00<00:00, 18.6MB/s]\n",
            "Downloading...\n",
            "From: https://drive.google.com/uc?id=1kf8K43HbDEvnO8hA90kxa-f_dUKBKoN8\n",
            "To: /content/final_sentiments.npy\n",
            "100% 64.0k/64.0k [00:00<00:00, 7.80MB/s]\n",
            "Downloading...\n",
            "From: https://drive.google.com/uc?id=1gZmf8Hkd85rRKyUj0h5a0eWeDTGwUjrk\n",
            "To: /content/final_cosine.npy\n",
            "100% 64.0k/64.0k [00:00<00:00, 8.23MB/s]\n",
            "Downloading...\n",
            "From: https://drive.google.com/uc?id=1VaLWPfxzrg-DQg-N7qdz9BMZPYEB5eau\n",
            "To: /content/test_final_embed.npy\n",
            "100% 2.01M/2.01M [00:00<00:00, 38.0MB/s]\n",
            "Downloading...\n",
            "From: https://drive.google.com/uc?id=1grzidEJebyqOmmcJG0dPgI-DRjHSlxN1\n",
            "To: /content/test_final_y_fine.npy\n",
            "100% 2.22k/2.22k [00:00<00:00, 3.23MB/s]\n",
            "Downloading...\n",
            "From: https://drive.google.com/uc?id=1GWoDmljmCMpGT_leyXbgIvoJFF0I6LFr\n",
            "To: /content/test_final_sentiments.npy\n",
            "100% 10.6k/10.6k [00:00<00:00, 3.69MB/s]\n",
            "Downloading...\n",
            "From: https://drive.google.com/uc?id=1WAdZfsfDI4DQqtBuk6rMkh94gsXPIMQe\n",
            "To: /content/test_final_cosine.npy\n",
            "100% 10.6k/10.6k [00:00<00:00, 13.9MB/s]\n"
          ]
        }
      ]
    },
    {
      "cell_type": "code",
      "source": [
        "# Retrieve features EUR\n",
        "# train\n",
        "!pip install --upgrade --no-cache-dir gdown --quiet\n",
        "!gdown 1ubj4pwQz-kY8v7BreP3aS8Cb84vLJxbZ\n",
        "!gdown 1DfNsVj6p9pDc4aPo1ZiY-jjXgfG9Y4FN\n",
        "!gdown 1W9PkF3vvtI3UWKUTgbJKXYHEVU78J98L\n",
        "!gdown 1s_u64dxVwg1l4zZRaXGtJ2LIXE_XvZEv\n",
        "\n",
        "# test\n",
        "!gdown 1uk7v4jgN5tLNroemeRRHQYEfYmziw6a1\n",
        "!gdown 1wbl8vUU8e3pDkXb4cAirc8Et5J4N7iDB\n",
        "!gdown 1c7P2eMZtqBJ7s2_eOzm-0ZQ0zq9Ahdfg\n",
        "!gdown 1dUS51uMZRMUTVqX6DUBC4DOjsIy6IAuU"
      ],
      "metadata": {
        "colab": {
          "base_uri": "https://localhost:8080/"
        },
        "id": "Z9aPg_IQP4hk",
        "outputId": "1231917f-b2ff-43d8-f7a3-adfa3e4d5526"
      },
      "execution_count": null,
      "outputs": [
        {
          "output_type": "stream",
          "name": "stdout",
          "text": [
            "Downloading...\n",
            "From: https://drive.google.com/uc?id=1ubj4pwQz-kY8v7BreP3aS8Cb84vLJxbZ\n",
            "To: /content/final_embed.npy\n",
            "100% 12.3M/12.3M [00:00<00:00, 25.0MB/s]\n",
            "Downloading...\n",
            "From: https://drive.google.com/uc?id=1DfNsVj6p9pDc4aPo1ZiY-jjXgfG9Y4FN\n",
            "To: /content/final_y_fine.npy\n",
            "100% 12.9k/12.9k [00:00<00:00, 14.7MB/s]\n",
            "Downloading...\n",
            "From: https://drive.google.com/uc?id=1W9PkF3vvtI3UWKUTgbJKXYHEVU78J98L\n",
            "To: /content/final_sentiments.npy\n",
            "100% 64.0k/64.0k [00:00<00:00, 14.3MB/s]\n",
            "Downloading...\n",
            "From: https://drive.google.com/uc?id=1s_u64dxVwg1l4zZRaXGtJ2LIXE_XvZEv\n",
            "To: /content/final_cosine.npy\n",
            "100% 64.0k/64.0k [00:00<00:00, 8.06MB/s]\n",
            "Downloading...\n",
            "From: https://drive.google.com/uc?id=1uk7v4jgN5tLNroemeRRHQYEfYmziw6a1\n",
            "To: /content/test_final_embed.npy\n",
            "100% 2.01M/2.01M [00:00<00:00, 40.9MB/s]\n",
            "Downloading...\n",
            "From: https://drive.google.com/uc?id=1wbl8vUU8e3pDkXb4cAirc8Et5J4N7iDB\n",
            "To: /content/test_final_y_fine.npy\n",
            "100% 2.22k/2.22k [00:00<00:00, 3.17MB/s]\n",
            "Downloading...\n",
            "From: https://drive.google.com/uc?id=1c7P2eMZtqBJ7s2_eOzm-0ZQ0zq9Ahdfg\n",
            "To: /content/test_final_sentiments.npy\n",
            "100% 10.6k/10.6k [00:00<00:00, 13.2MB/s]\n",
            "Downloading...\n",
            "From: https://drive.google.com/uc?id=1dUS51uMZRMUTVqX6DUBC4DOjsIy6IAuU\n",
            "To: /content/test_final_cosine.npy\n",
            "100% 10.6k/10.6k [00:00<00:00, 13.0MB/s]\n"
          ]
        }
      ]
    },
    {
      "cell_type": "code",
      "source": [
        "final_embeddings = np.load('final_embed.npy')\n",
        "final_y_fine = np.load('final_y_fine.npy')\n",
        "final_sentiments = np.load('final_sentiments.npy')\n",
        "final_cosine = np.load('final_cosine.npy')\n",
        "\n",
        "test_final_embeddings = np.load('test_final_embed.npy')\n",
        "test_final_y_fine = np.load('test_final_y_fine.npy')\n",
        "test_final_sentiments = np.load('test_final_sentiments.npy')\n",
        "test_final_cosine = np.load('test_final_cosine.npy')"
      ],
      "metadata": {
        "id": "W3oi4MI6QWkY"
      },
      "execution_count": null,
      "outputs": []
    },
    {
      "cell_type": "code",
      "execution_count": null,
      "metadata": {
        "id": "34Do7-f0PHX8"
      },
      "outputs": [],
      "source": [
        "def create_dataset(X, y, n_fed=399, embeddings=None, \n",
        "                   y_sent=None, cosine=None, sentiments=None,\n",
        "                   is_reg=False, labels=True):\n",
        "  \n",
        "    n_sample = X.shape[0]\n",
        "    seq_length = 20\n",
        "    embedding_dim = embeddings.shape[2]\n",
        "    \n",
        "    X_train = np.zeros((n_sample, seq_length, 9+3))\n",
        "    y_train = np.zeros((n_sample,))\n",
        "\n",
        "    fed_embed = np.insert(embeddings[:n_fed], 0, np.zeros((5,384)), axis=0)\n",
        "    ecb_embed = np.insert(embeddings[n_fed:], 0, np.zeros((5,384)), axis=0)\n",
        "\n",
        "    y_fed = np.insert(y_sent[:n_fed], 0, 0)\n",
        "    y_ecb = np.insert(y_sent[n_fed:], 0, 0)\n",
        "\n",
        "    cosine_vix = np.insert(cosine[:n_fed], 0, np.zeros((5,)), axis=0)\n",
        "    cosine_eur = np.insert(cosine[n_fed:], 0, np.zeros((5,)), axis=0)\n",
        "\n",
        "    senti_sent_fed = np.insert(sentiments[:n_fed], 0, np.zeros((5,)), axis=0)\n",
        "    senti_sent_ecb = np.insert(sentiments[n_fed:], 0, np.zeros((5,)), axis=0)\n",
        "    \n",
        "    for idx in range(n_sample):\n",
        "        sample = []\n",
        "        for day in range(seq_length):\n",
        "\n",
        "            fed_idx = int(X[idx, 1][day])\n",
        "            ecb_idx = int(X[idx, 2][day])\n",
        "\n",
        "            #emb = (fed_embed[X[idx,2][day]] + ecb_embed[X[idx,3][day]]) / 2\n",
        "            sent_sum = [y_fed[fed_idx] + y_ecb[ecb_idx]]\n",
        "            sent_fed, sent_ecb = (senti_sent_fed[fed_idx], senti_sent_ecb[ecb_idx])\n",
        "            cosine_fed, cosine_ecb = (cosine_vix[fed_idx][0], cosine_eur[ecb_idx][0])\n",
        "            emb = (fed_embed[fed_idx] + ecb_embed[ecb_idx]) / 2\n",
        "            price = X[idx, 0][day]\n",
        "            \n",
        "            sample.append(np.concatenate((sent_sum,\n",
        "                                          sent_fed,\n",
        "                                          sent_ecb,\n",
        "                                          [price]), axis=0))\n",
        "        \n",
        "        X_train[idx,:,:] = np.array(sample)\n",
        "        if labels:\n",
        "          y_train[idx] = y[idx][0] if is_reg else y[idx][1]\n",
        "        \n",
        "    return X_train, y_train"
      ]
    },
    {
      "cell_type": "code",
      "execution_count": null,
      "metadata": {
        "colab": {
          "base_uri": "https://localhost:8080/"
        },
        "id": "aeExcCokPHX9",
        "outputId": "c928deca-5672-4b8f-a3bd-5d41f90a1c2f"
      },
      "outputs": [
        {
          "output_type": "stream",
          "name": "stdout",
          "text": [
            "(1254, 20, 12)\n",
            "(1254,)\n",
            "\n",
            "(200, 20, 12)\n"
          ]
        }
      ],
      "source": [
        "x, y = create_dataset(X_train_vix, y_train_vix, y_sent=final_y_fine,\n",
        "                      embeddings=final_embeddings, n_fed=399,\n",
        "                      sentiments=final_sentiments, cosine=final_cosine,\n",
        "                      is_reg=False, labels=True)\n",
        "\n",
        "x_test, _ = create_dataset(X_test_vix, None, embeddings=test_final_embeddings, \n",
        "                           n_fed=57, y_sent=test_final_y_fine, \n",
        "                           sentiments=test_final_sentiments, cosine=test_final_cosine,\n",
        "                           is_reg=False, labels=False)\n",
        "\n",
        "\n",
        "print(x.shape)\n",
        "print(y.shape)\n",
        "print()\n",
        "print(x_test.shape)"
      ]
    },
    {
      "cell_type": "markdown",
      "source": [
        "## Simple models"
      ],
      "metadata": {
        "id": "A_gfuL3-42f4"
      }
    },
    {
      "cell_type": "markdown",
      "source": [
        "### Splitting and shrinking"
      ],
      "metadata": {
        "id": "aX56BLhsIycH"
      }
    },
    {
      "cell_type": "code",
      "execution_count": null,
      "metadata": {
        "colab": {
          "base_uri": "https://localhost:8080/"
        },
        "id": "TvNYV_nhPHYN",
        "outputId": "a6b3fae9-a001-4313-f9fc-ae2d675849b6"
      },
      "outputs": [
        {
          "output_type": "stream",
          "name": "stdout",
          "text": [
            "(1254, 387)\n",
            "(1254,)\n",
            "(200, 387)\n"
          ]
        }
      ],
      "source": [
        "#X = x[:,:,:].reshape(1254, -1)\n",
        "X = np.mean(x[:,:,:], axis=1)\n",
        "\n",
        "#_X_test = x_test[:,:,:].reshape(200, -1)\n",
        "_X_test = np.mean(x_test[:,:,:], axis=1)\n",
        "y = y\n",
        "\n",
        "print(X.shape)\n",
        "print(y.shape)\n",
        "print(_X_test.shape)"
      ]
    },
    {
      "cell_type": "code",
      "execution_count": null,
      "metadata": {
        "colab": {
          "base_uri": "https://localhost:8080/"
        },
        "id": "uMqGYraNPHYN",
        "outputId": "6504ea63-7d16-4a4f-d229-0366dd8b89c4"
      },
      "outputs": [
        {
          "output_type": "stream",
          "name": "stdout",
          "text": [
            "(877, 387)\n",
            "(377, 387)\n",
            "\n",
            "(877,)\n",
            "(377,)\n"
          ]
        }
      ],
      "source": [
        "from sklearn.model_selection import train_test_split\n",
        "\n",
        "x_train, X_val, Y_train, y_val = train_test_split(X, y, test_size=0.3, random_state=54)\n",
        "print(x_train.shape)\n",
        "print(str(X_val.shape) + '\\n')\n",
        "print(Y_train.shape)\n",
        "print(y_val.shape)"
      ]
    },
    {
      "cell_type": "markdown",
      "metadata": {
        "id": "offug5H_RwrS",
        "tags": []
      },
      "source": [
        "### Support vector machine"
      ]
    },
    {
      "cell_type": "code",
      "execution_count": null,
      "metadata": {
        "colab": {
          "base_uri": "https://localhost:8080/"
        },
        "id": "LdW4WRu0PHYN",
        "outputId": "6660ad31-8bf3-4611-ee62-e14c19b1f094"
      },
      "outputs": [
        {
          "output_type": "stream",
          "name": "stdout",
          "text": [
            "0.9680729760547321\n",
            "0.843501326259947\n"
          ]
        }
      ],
      "source": [
        "from sklearn.svm import SVC\n",
        "from sklearn.pipeline import make_pipeline\n",
        "from sklearn.preprocessing import StandardScaler, MinMaxScaler\n",
        "\n",
        "clf1 = make_pipeline(StandardScaler(),\n",
        "                     SVC(C=5, kernel='rbf', degree=2, class_weight='balanced', \n",
        "                         coef0=0, probability=False, tol=1e-8, random_state=90))\n",
        "\n",
        "#clf = SVC(C=1000, kernel='rbf', degree=3, class_weight=\"balanced\", \n",
        "#          coef0=0, probability=False, tol=1e-5, random_state=42)\n",
        "clf1.fit(x_train, Y_train)\n",
        "print(clf1.score(x_train, Y_train))\n",
        "print(clf1.score(X_val, y_val))"
      ]
    },
    {
      "cell_type": "code",
      "source": [
        "from sklearn.metrics import classification_report\n",
        "y_pred = clf1.predict(X_val)\n",
        "print(classification_report(y_val, y_pred))"
      ],
      "metadata": {
        "colab": {
          "base_uri": "https://localhost:8080/"
        },
        "id": "zNJpqgjJk-Ea",
        "outputId": "0c11e137-0c1e-4c24-b285-5b854966808d"
      },
      "execution_count": null,
      "outputs": [
        {
          "output_type": "stream",
          "name": "stdout",
          "text": [
            "              precision    recall  f1-score   support\n",
            "\n",
            "         0.0       0.67      0.78      0.72       218\n",
            "         1.0       0.60      0.47      0.53       159\n",
            "\n",
            "    accuracy                           0.65       377\n",
            "   macro avg       0.64      0.62      0.62       377\n",
            "weighted avg       0.64      0.65      0.64       377\n",
            "\n"
          ]
        }
      ]
    },
    {
      "cell_type": "code",
      "source": [
        "from sklearn.model_selection import cross_val_score\n",
        "from sklearn.model_selection import ShuffleSplit\n",
        "\n",
        "cv = ShuffleSplit(n_splits=10, test_size=0.2, random_state=4)\n",
        "scores = cross_val_score(clf1, X, y, cv=cv)\n",
        "scores"
      ],
      "metadata": {
        "colab": {
          "base_uri": "https://localhost:8080/"
        },
        "id": "ZRbuYQuv75n-",
        "outputId": "4aeb54c4-aafa-4f7a-9297-d6c9771450d7"
      },
      "execution_count": null,
      "outputs": [
        {
          "output_type": "execute_result",
          "data": {
            "text/plain": [
              "array([0.89243028, 0.83665339, 0.85258964, 0.82071713, 0.82868526,\n",
              "       0.812749  , 0.85258964, 0.86454183, 0.84063745, 0.85258964])"
            ]
          },
          "metadata": {},
          "execution_count": 185
        }
      ]
    },
    {
      "cell_type": "code",
      "source": [
        "y_test_pred = clf1.predict(_X_test)\n",
        "np.savetxt('pred_classif.txt', y_test_pred, fmt='%d')"
      ],
      "metadata": {
        "id": "Pd0f_tFks49C"
      },
      "execution_count": null,
      "outputs": []
    },
    {
      "cell_type": "code",
      "source": [
        "from sklearn.svm import SVR\n",
        "from sklearn.metrics import mean_squared_error\n",
        "\n",
        "regr = make_pipeline(StandardScaler(), \n",
        "                     SVR(C=100, kernel='rbf', degree=3,\n",
        "                         epsilon=0.1, coef0=0, tol=1e-6))\n",
        "regr.fit(x_train, Y_train)\n",
        "y_tr = regr.predict(x_train)\n",
        "print(np.sqrt(mean_squared_error(Y_train, y_tr)))\n",
        "y_pred = regr.predict(X_val)\n",
        "print(np.sqrt(mean_squared_error(y_val, y_pred)))"
      ],
      "metadata": {
        "colab": {
          "base_uri": "https://localhost:8080/"
        },
        "id": "yj1oIRAFoP7c",
        "outputId": "20dc4cf5-ddb5-4e53-c2eb-a79df20876e0"
      },
      "execution_count": null,
      "outputs": [
        {
          "output_type": "stream",
          "name": "stdout",
          "text": [
            "0.09144815708210269\n",
            "0.43270449218887985\n"
          ]
        }
      ]
    },
    {
      "cell_type": "code",
      "source": [
        "y_test_pred = regr.predict(_X_test)\n",
        "np.savetxt('pred_reg.txt', y_test_pred, fmt='%.17f')"
      ],
      "metadata": {
        "id": "1MyqHRB6zlT9"
      },
      "execution_count": null,
      "outputs": []
    },
    {
      "cell_type": "markdown",
      "metadata": {
        "id": "Z2GVwepiPHYP"
      },
      "source": [
        "### Random Forest"
      ]
    },
    {
      "cell_type": "code",
      "execution_count": null,
      "metadata": {
        "colab": {
          "base_uri": "https://localhost:8080/"
        },
        "id": "o9v6-IYYPHYP",
        "outputId": "3c42ef6f-2f55-49c8-db83-a55a21a4431f"
      },
      "outputs": [
        {
          "output_type": "stream",
          "name": "stdout",
          "text": [
            "0.9600912200684151\n",
            "0.7798408488063661\n"
          ]
        }
      ],
      "source": [
        "from sklearn.ensemble import RandomForestClassifier\n",
        "\n",
        "clf3 = make_pipeline(StandardScaler(), \n",
        "                     RandomForestClassifier(n_estimators=100, max_depth=5, criterion='entropy',\n",
        "                                            min_samples_split=2, class_weight='balanced',\n",
        "                                            random_state=44))\n",
        "clf3.fit(x_train, Y_train)\n",
        "print(clf3.score(x_train, Y_train))\n",
        "print(clf3.score(X_val, y_val))"
      ]
    },
    {
      "cell_type": "code",
      "source": [
        "y_pred = clf3.predict(X_val)\n",
        "print(classification_report(y_val, y_pred))"
      ],
      "metadata": {
        "colab": {
          "base_uri": "https://localhost:8080/"
        },
        "id": "YGd5QZ-N9-07",
        "outputId": "e5b2d2b8-1355-4865-e947-631a496c1f4b"
      },
      "execution_count": null,
      "outputs": [
        {
          "output_type": "stream",
          "name": "stdout",
          "text": [
            "              precision    recall  f1-score   support\n",
            "\n",
            "         0.0       0.83      0.90      0.86       153\n",
            "         1.0       0.81      0.71      0.76        98\n",
            "\n",
            "    accuracy                           0.82       251\n",
            "   macro avg       0.82      0.80      0.81       251\n",
            "weighted avg       0.82      0.82      0.82       251\n",
            "\n"
          ]
        }
      ]
    },
    {
      "cell_type": "code",
      "source": [
        "from sklearn.ensemble import RandomForestRegressor\n",
        "\n",
        "regr1 = make_pipeline(StandardScaler(),\n",
        "                      RandomForestRegressor(n_estimators=300, criterion='squared_error',\n",
        "                                            max_depth=None, random_state=0))\n",
        "regr1.fit(x_train, Y_train)\n",
        "y_tr = regr1.predict(x_train)\n",
        "print(np.sqrt(mean_squared_error(Y_train, y_tr)))\n",
        "y_pred = regr1.predict(X_val)\n",
        "print(np.sqrt(mean_squared_error(y_val, y_pred)))"
      ],
      "metadata": {
        "colab": {
          "base_uri": "https://localhost:8080/"
        },
        "id": "ltIRauHTqPEQ",
        "outputId": "0241a6a6-c9f1-42dc-a0fe-f3cef2580790"
      },
      "execution_count": null,
      "outputs": [
        {
          "output_type": "stream",
          "name": "stdout",
          "text": [
            "0.13504138789745904\n",
            "0.3585834431088599\n"
          ]
        }
      ]
    },
    {
      "cell_type": "markdown",
      "source": [
        "### XGBoost"
      ],
      "metadata": {
        "id": "8pxzXdBTAZ6r"
      }
    },
    {
      "cell_type": "code",
      "source": [
        "import xgboost as xgb\n",
        "\n",
        "xgb_cl = xgb.XGBClassifier(max_depth=4, learning_rate=1e-2, n_estimators=100, \n",
        "                           booster='gbtree', reg_alpha=5, reg_lambda=20,\n",
        "                           objective='binary:logistic', base_score=0.48, \n",
        "                           random_state=44).fit(x_train, Y_train)\n",
        "print(xgb_cl.score(x_train, Y_train))\n",
        "print(xgb_cl.score(X_val, y_val))"
      ],
      "metadata": {
        "colab": {
          "base_uri": "https://localhost:8080/"
        },
        "id": "W0eZlfTdAbw3",
        "outputId": "7a066f42-9162-4fce-f909-f03f2a91712f"
      },
      "execution_count": null,
      "outputs": [
        {
          "output_type": "stream",
          "name": "stdout",
          "text": [
            "0.7867730900798175\n",
            "0.6472148541114059\n"
          ]
        }
      ]
    },
    {
      "cell_type": "code",
      "source": [
        "y_test_pred = xgb_cl.predict(_X_test)\n",
        "np.savetxt('pred_classif.txt', y_test_pred, fmt='%d')"
      ],
      "metadata": {
        "id": "ofwlw1K8wdtI"
      },
      "execution_count": null,
      "outputs": []
    },
    {
      "cell_type": "code",
      "source": [
        "y_pred = xgb_cl.predict(X_val)\n",
        "print(classification_report(y_val, y_pred))"
      ],
      "metadata": {
        "colab": {
          "base_uri": "https://localhost:8080/"
        },
        "id": "bCRuFP6OElAZ",
        "outputId": "2aae7b2f-8dca-445c-ffc7-e29e1933d7cd"
      },
      "execution_count": null,
      "outputs": [
        {
          "output_type": "stream",
          "name": "stdout",
          "text": [
            "              precision    recall  f1-score   support\n",
            "\n",
            "         0.0       0.78      0.82      0.80       223\n",
            "         1.0       0.72      0.66      0.69       154\n",
            "\n",
            "    accuracy                           0.76       377\n",
            "   macro avg       0.75      0.74      0.74       377\n",
            "weighted avg       0.75      0.76      0.75       377\n",
            "\n"
          ]
        }
      ]
    },
    {
      "cell_type": "code",
      "source": [
        "import xgboost as xgb\n",
        "\n",
        "xgb_reg = xgb.XGBRegressor(max_depth=3, learning_rate=1e-1, n_estimators=100,\n",
        "                           objective=\"reg:squarederror\", reg_lambda=20, reg_alpha=0,\n",
        "                           base_score=0.5)\n",
        "xgb_reg.fit(X, y)\n",
        "y_tr = xgb_reg.predict(x_train)\n",
        "print(np.sqrt(mean_squared_error(Y_train, y_tr)))\n",
        "y_pred = xgb_reg.predict(X_val)\n",
        "print(np.sqrt(mean_squared_error(y_val, y_pred)))"
      ],
      "metadata": {
        "colab": {
          "base_uri": "https://localhost:8080/"
        },
        "id": "0s4v-CG8rAUi",
        "outputId": "132d9ede-aa4a-4c13-d846-abe856c29945"
      },
      "execution_count": null,
      "outputs": [
        {
          "output_type": "stream",
          "name": "stdout",
          "text": [
            "0.19257599830398375\n",
            "0.16785190395218694\n"
          ]
        }
      ]
    },
    {
      "cell_type": "code",
      "source": [
        "y_test_pred = xgb_reg.predict(_X_test)\n",
        "np.savetxt('pred_reg.txt', y_test_pred, fmt='%.17f')"
      ],
      "metadata": {
        "id": "leJHeEcaxxgV"
      },
      "execution_count": null,
      "outputs": []
    },
    {
      "cell_type": "markdown",
      "source": [
        "### Logistic regression"
      ],
      "metadata": {
        "id": "4DadwYVB5DYL"
      }
    },
    {
      "cell_type": "code",
      "source": [
        "from sklearn.linear_model import LogisticRegression\n",
        "\n",
        "clf5 = LogisticRegression(penalty='l2', class_weight=None, solver='lbfgs', C=100,\n",
        "                          max_iter=10000, tol=1e-30, random_state=44).fit(X, y)\n",
        "print(clf5.score(x_train, Y_train))\n",
        "print(clf5.score(X_val, y_val))"
      ],
      "metadata": {
        "colab": {
          "base_uri": "https://localhost:8080/"
        },
        "id": "3PZVA52O5IA9",
        "outputId": "409501fb-4748-4035-ddf2-0a0f6aeda5cd"
      },
      "execution_count": null,
      "outputs": [
        {
          "output_type": "stream",
          "name": "stdout",
          "text": [
            "0.8050171037628279\n",
            "0.8541114058355438\n"
          ]
        }
      ]
    },
    {
      "cell_type": "code",
      "source": [
        "y_test_pred = clf5.predict(_X_test)\n",
        "np.savetxt('pred_classif.txt', y_test_pred, fmt='%d')"
      ],
      "metadata": {
        "id": "ROTcaukJ08Zf"
      },
      "execution_count": null,
      "outputs": []
    },
    {
      "cell_type": "code",
      "source": [
        "y_pred = clf5.predict(X_val)\n",
        "print(classification_report(y_val, y_pred))"
      ],
      "metadata": {
        "colab": {
          "base_uri": "https://localhost:8080/"
        },
        "id": "e1VoZOBz-Gx8",
        "outputId": "e7c84b6d-ba43-44ce-96d4-3f96c57d8544"
      },
      "execution_count": null,
      "outputs": [
        {
          "output_type": "stream",
          "name": "stdout",
          "text": [
            "              precision    recall  f1-score   support\n",
            "\n",
            "         0.0       0.92      0.87      0.89       223\n",
            "         1.0       0.83      0.88      0.86       154\n",
            "\n",
            "    accuracy                           0.88       377\n",
            "   macro avg       0.87      0.88      0.87       377\n",
            "weighted avg       0.88      0.88      0.88       377\n",
            "\n"
          ]
        }
      ]
    },
    {
      "cell_type": "code",
      "source": [
        "from sklearn.model_selection import cross_val_score\n",
        "from sklearn.model_selection import ShuffleSplit\n",
        "\n",
        "cv = ShuffleSplit(n_splits=10, test_size=0.3, random_state=4)\n",
        "scores = cross_val_score(clf5, X, y, cv=cv)\n",
        "scores"
      ],
      "metadata": {
        "colab": {
          "base_uri": "https://localhost:8080/"
        },
        "id": "UWeb1EuR9GnO",
        "outputId": "d2a6ee7c-b339-4baf-a759-4fd8840577a4"
      },
      "execution_count": null,
      "outputs": [
        {
          "output_type": "execute_result",
          "data": {
            "text/plain": [
              "array([0.81167109, 0.76127321, 0.74801061, 0.75066313, 0.75596817,\n",
              "       0.77453581, 0.77718833, 0.77188329, 0.78779841, 0.80371353])"
            ]
          },
          "metadata": {},
          "execution_count": 191
        }
      ]
    },
    {
      "cell_type": "markdown",
      "metadata": {
        "id": "58KKbMjjPHYO"
      },
      "source": [
        "### KNN Classifier"
      ]
    },
    {
      "cell_type": "code",
      "execution_count": null,
      "metadata": {
        "colab": {
          "base_uri": "https://localhost:8080/"
        },
        "id": "R648Q37rPHYO",
        "outputId": "299fe73d-647d-43e9-fb42-550c3ff13ddd"
      },
      "outputs": [
        {
          "output_type": "stream",
          "name": "stdout",
          "text": [
            "1.0\n",
            "0.8366533864541833\n"
          ]
        }
      ],
      "source": [
        "from sklearn.neighbors import KNeighborsClassifier\n",
        "\n",
        "clf2 = make_pipeline(StandardScaler(), \n",
        "                     KNeighborsClassifier(n_neighbors=5, weights='distance', \n",
        "                                          leaf_size=1000, p=1, metric='manhattan'))\n",
        "#neigh = KNeighborsClassifier(n_neighbors=4, weights='distance', \n",
        "#                            leaf_size=30, p=1, metric='manhattan')\n",
        "clf2.fit(x_train, Y_train)\n",
        "print(clf2.score(x_train, Y_train))\n",
        "print(clf2.score(X_val, y_val))"
      ]
    },
    {
      "cell_type": "code",
      "source": [
        "y_pred = clf2.predict(X_val)\n",
        "print(classification_report(y_val, y_pred))"
      ],
      "metadata": {
        "colab": {
          "base_uri": "https://localhost:8080/"
        },
        "id": "0bUBWnnF-OW9",
        "outputId": "183ef4e5-e412-4747-da2b-26352c7e4335"
      },
      "execution_count": null,
      "outputs": [
        {
          "output_type": "stream",
          "name": "stdout",
          "text": [
            "              precision    recall  f1-score   support\n",
            "\n",
            "         0.0       0.78      0.82      0.80       179\n",
            "         1.0       0.74      0.70      0.72       135\n",
            "\n",
            "    accuracy                           0.77       314\n",
            "   macro avg       0.76      0.76      0.76       314\n",
            "weighted avg       0.77      0.77      0.77       314\n",
            "\n"
          ]
        }
      ]
    },
    {
      "cell_type": "markdown",
      "source": [
        "### Naive Bayes"
      ],
      "metadata": {
        "id": "MSEWqt-C3e2r"
      }
    },
    {
      "cell_type": "code",
      "source": [
        "from sklearn.naive_bayes import GaussianNB\n",
        "\n",
        "clf4 = GaussianNB(var_smoothing=1e-9).fit(x_train, Y_train)\n",
        "print(clf4.score(x_train, Y_train))\n",
        "print(clf4.score(X_val, y_val))"
      ],
      "metadata": {
        "colab": {
          "base_uri": "https://localhost:8080/"
        },
        "id": "BC_Vyvwe3hDN",
        "outputId": "d9be8467-daa7-4113-95b0-30f67f9ed5c5"
      },
      "execution_count": null,
      "outputs": [
        {
          "output_type": "stream",
          "name": "stdout",
          "text": [
            "0.6864310148232611\n",
            "0.6339522546419099\n"
          ]
        }
      ]
    },
    {
      "cell_type": "code",
      "source": [
        "from sklearn.model_selection import cross_val_score\n",
        "from sklearn.model_selection import ShuffleSplit\n",
        "\n",
        "cv = ShuffleSplit(n_splits=10, test_size=0.3, random_state=4)\n",
        "scores = cross_val_score(clf4, X, y, cv=cv)\n",
        "scores"
      ],
      "metadata": {
        "colab": {
          "base_uri": "https://localhost:8080/"
        },
        "id": "P5qFI-W19VMD",
        "outputId": "4f135198-9481-4571-eb75-4b2271aeeb16"
      },
      "execution_count": null,
      "outputs": [
        {
          "output_type": "execute_result",
          "data": {
            "text/plain": [
              "array([0.6127321 , 0.57559682, 0.55437666, 0.48275862, 0.64190981,\n",
              "       0.55172414, 0.60212202, 0.57824934, 0.62864721, 0.56763926])"
            ]
          },
          "metadata": {},
          "execution_count": 247
        }
      ]
    },
    {
      "cell_type": "markdown",
      "metadata": {
        "id": "sJXpLphAPHYQ"
      },
      "source": [
        "### Gradient Boosting"
      ]
    },
    {
      "cell_type": "code",
      "execution_count": null,
      "metadata": {
        "id": "wt9hV8ZaPHYQ",
        "outputId": "d5012814-8458-40b0-f630-41233c6ee99a",
        "colab": {
          "base_uri": "https://localhost:8080/"
        }
      },
      "outputs": [
        {
          "output_type": "stream",
          "name": "stdout",
          "text": [
            "1.0\n",
            "0.7211155378486056\n"
          ]
        }
      ],
      "source": [
        "from sklearn.ensemble import GradientBoostingClassifier\n",
        "\n",
        "clf = make_pipeline(StandardScaler(),\n",
        "                    GradientBoostingClassifier(n_estimators=200, max_depth=10, loss='exponential',\n",
        "                                               learning_rate=1e-2, criterion='squared_error', random_state=44))\n",
        "clf.fit(x_train, Y_train)\n",
        "print(clf.score(x_train, Y_train))\n",
        "print(clf.score(X_val, y_val))"
      ]
    },
    {
      "cell_type": "markdown",
      "metadata": {
        "id": "oYkPcC2HPHYS"
      },
      "source": [
        "### Voting classifiers"
      ]
    },
    {
      "cell_type": "code",
      "execution_count": null,
      "metadata": {
        "id": "D0nM7WflPHYT",
        "outputId": "a6b00cc1-bbaa-48ea-adfa-2c9a76a84048",
        "colab": {
          "base_uri": "https://localhost:8080/"
        }
      },
      "outputs": [
        {
          "output_type": "stream",
          "name": "stdout",
          "text": [
            "0.9611166500498505\n",
            "0.7689243027888446\n"
          ]
        }
      ],
      "source": [
        "from sklearn.ensemble import VotingClassifier\n",
        "\n",
        "eclf = VotingClassifier(estimators=[('svc', clf1), ('rf', clf3)], voting='hard')\n",
        "eclf.fit(x_train, Y_train)\n",
        "print(eclf.score(x_train, Y_train))\n",
        "print(eclf.score(X_val, y_val))"
      ]
    },
    {
      "cell_type": "code",
      "execution_count": null,
      "metadata": {
        "id": "ggy6lMylPHYU",
        "colab": {
          "base_uri": "https://localhost:8080/"
        },
        "outputId": "4955cb0b-b8a2-4b8f-e652-2e34353daf3c"
      },
      "outputs": [
        {
          "output_type": "stream",
          "name": "stdout",
          "text": [
            "              precision    recall  f1-score   support\n",
            "\n",
            "         0.0       0.73      0.96      0.83       144\n",
            "         1.0       0.90      0.51      0.65       107\n",
            "\n",
            "    accuracy                           0.77       251\n",
            "   macro avg       0.81      0.74      0.74       251\n",
            "weighted avg       0.80      0.77      0.75       251\n",
            "\n"
          ]
        }
      ],
      "source": [
        "y_pred = eclf.predict(X_val)\n",
        "print(classification_report(y_val, y_pred))"
      ]
    },
    {
      "cell_type": "code",
      "source": [
        ""
      ],
      "metadata": {
        "id": "oi-qG4xt--dq"
      },
      "execution_count": null,
      "outputs": []
    },
    {
      "cell_type": "markdown",
      "metadata": {
        "id": "e1tw27YBjdMj"
      },
      "source": [
        "## Sequential model (LSTM, GRU) based on summarization embeddings + prices"
      ]
    },
    {
      "cell_type": "markdown",
      "source": [
        "### PyTorch dataset"
      ],
      "metadata": {
        "id": "MBwDxGaAIsfs"
      }
    },
    {
      "cell_type": "code",
      "execution_count": null,
      "metadata": {
        "colab": {
          "base_uri": "https://localhost:8080/"
        },
        "id": "Sn3kRl9LPHX-",
        "outputId": "520c68d7-3253-49e7-903b-041814409266"
      },
      "outputs": [
        {
          "output_type": "execute_result",
          "data": {
            "text/plain": [
              "1254"
            ]
          },
          "metadata": {},
          "execution_count": 284
        }
      ],
      "source": [
        "from torch.utils.data import Dataset, DataLoader\n",
        "\n",
        "class CustomDataset(Dataset):\n",
        "    \n",
        "    def __init__(self, data, labels):\n",
        "        self.X, self.Y = [], []\n",
        "        for x, y in zip(data, labels):\n",
        "            self.X.append(x)\n",
        "            self.Y.append(y)\n",
        "            \n",
        "    def __len__(self):\n",
        "        return len(self.Y)\n",
        "\n",
        "    def __getitem__(self, idx):\n",
        "        return self.X[idx], self.Y[idx]\n",
        "    \n",
        "data = CustomDataset(x, y)\n",
        "len(data)"
      ]
    },
    {
      "cell_type": "markdown",
      "metadata": {
        "jp-MarkdownHeadingCollapsed": true,
        "tags": [],
        "id": "pigO_1jKPHX-"
      },
      "source": [
        "### Splitting original dataset"
      ]
    },
    {
      "cell_type": "markdown",
      "metadata": {
        "jp-MarkdownHeadingCollapsed": true,
        "tags": [],
        "id": "xzp83RdJPHX_"
      },
      "source": [
        "#### Classification"
      ]
    },
    {
      "cell_type": "code",
      "execution_count": null,
      "metadata": {
        "id": "UDaSKNLBPHX_"
      },
      "outputs": [],
      "source": [
        "from torch.utils.data import DataLoader, Subset\n",
        "from sklearn.model_selection import train_test_split\n",
        "\n",
        "VAL_SIZE = 0.25\n",
        "BATCH_SIZE = 32\n",
        "SEED = 4\n",
        "\n",
        "# generate indices: instead of the actual data we pass in integers instead\n",
        "train_indices, test_indices, _, _ = train_test_split(\n",
        "    range(len(data)),\n",
        "    data.Y,\n",
        "    test_size=VAL_SIZE,\n",
        "    random_state=SEED\n",
        ")\n",
        "\n",
        "# generate subset based on indices\n",
        "train_split = Subset(data, train_indices)\n",
        "val_split = Subset(data, test_indices)\n",
        "\n",
        "# create batches\n",
        "data_train = DataLoader(train_split, batch_size=BATCH_SIZE, shuffle=True)\n",
        "data_val = DataLoader(val_split, batch_size=len(test_indices), shuffle=True)"
      ]
    },
    {
      "cell_type": "markdown",
      "metadata": {
        "jp-MarkdownHeadingCollapsed": true,
        "tags": [],
        "id": "SQC1SCDvPHYA"
      },
      "source": [
        "#### Regression"
      ]
    },
    {
      "cell_type": "code",
      "execution_count": null,
      "metadata": {
        "id": "CoVa1BQQPHYA"
      },
      "outputs": [],
      "source": [
        "from torch.utils.data import DataLoader, Subset\n",
        "from sklearn.model_selection import train_test_split\n",
        "\n",
        "VAL_SIZE = 0.2\n",
        "BATCH_SIZE = 32\n",
        "SEED = 1\n",
        "\n",
        "# generate indices: instead of the actual data we pass in integers instead\n",
        "train_indices, test_indices, _, _ = train_test_split(\n",
        "    range(len(data)),\n",
        "    data.Y,\n",
        "    test_size=VAL_SIZE,\n",
        "    random_state=SEED\n",
        ")\n",
        "\n",
        "# generate subset based on indices\n",
        "train_split = Subset(data, train_indices)\n",
        "val_split = Subset(data, test_indices)\n",
        "\n",
        "# create batches\n",
        "data_train = DataLoader(train_split, batch_size=BATCH_SIZE, shuffle=True)\n",
        "data_val = DataLoader(val_split, batch_size=len(test_indices), shuffle=True)"
      ]
    },
    {
      "cell_type": "markdown",
      "metadata": {
        "jp-MarkdownHeadingCollapsed": true,
        "tags": [],
        "id": "AejiHr4IPHYA"
      },
      "source": [
        "### Classification"
      ]
    },
    {
      "cell_type": "code",
      "execution_count": null,
      "metadata": {
        "id": "mzPBs75MPHYB"
      },
      "outputs": [],
      "source": [
        "import torch.nn as nn\n",
        "import torch.nn.functional as F\n",
        "\n",
        "class Sequential_Model(nn.Module):\n",
        "    \n",
        "    def __init__(self, embedding_dim, hidden_dim, is_reg=False):\n",
        "        super().__init__()\n",
        "        self.embedding_dim = embedding_dim\n",
        "        self.hidden_dim = hidden_dim\n",
        "        self.is_reg = is_reg\n",
        " \n",
        "        self.lstm = nn.LSTM(self.embedding_dim, self.hidden_dim, \n",
        "                            num_layers=2, bidirectional=False,\n",
        "                            dropout=.6, batch_first=True)\n",
        "        self.gru = nn.GRU(self.embedding_dim, self.hidden_dim,\n",
        "                          num_layers=1, dropout=0, batch_first=True)\n",
        "        \n",
        "        self.fc = nn.Linear(self.hidden_dim, self.hidden_dim//2)\n",
        "        self.dropout = nn.Dropout(p=.5)\n",
        "        self.bn_1 = nn.BatchNorm1d(self.hidden_dim)\n",
        "        self.bn_2 = nn.BatchNorm1d(self.hidden_dim)\n",
        "        self.linear = nn.Linear(self.hidden_dim//2, 1)\n",
        "\n",
        "    def forward(self, seq_inputs):\n",
        "        # seq_inputs is of shape : (batch_size, seq_length, embedding_dim + 1)\n",
        "        n_samples = seq_inputs.size(0)\n",
        "        \n",
        "        (hn_t, c_t) = (torch.zeros(1, n_samples, self.hidden_dim), \n",
        "                       torch.zeros(1, n_samples, self.hidden_dim))\n",
        "        #out = torch.mean(seq_inputs, axis=1)\n",
        "        out, _ = self.gru(seq_inputs, hn_t)\n",
        "        #out, _ = self.gru(seq_inputs, hn_t)\n",
        "        out = F.leaky_relu_(self.fc(self.dropout(out[:,-1,:])))\n",
        "        #out = self.dropout(out)\n",
        "    \n",
        "        out = self.linear(out)\n",
        "                \n",
        "        return out.squeeze()"
      ]
    },
    {
      "cell_type": "code",
      "execution_count": null,
      "metadata": {
        "id": "TYzMS-rJPHYC"
      },
      "outputs": [],
      "source": [
        "import torch.optim as optim\n",
        "\n",
        "seq_model = Sequential_Model(embedding_dim=x.shape[2], hidden_dim=32)\n",
        "opt = optim.Adam(seq_model.parameters(), lr=1e-4, weight_decay=3.5e-3)\n",
        "\n",
        "# already contain sigmoid in it\n",
        "criterion = nn.BCEWithLogitsLoss() "
      ]
    },
    {
      "cell_type": "code",
      "execution_count": null,
      "metadata": {
        "id": "-OaP-VhPPHYC"
      },
      "outputs": [],
      "source": [
        "from sklearn.metrics import f1_score\n",
        "def eval_model(model, criterion, evalloader):\n",
        "    model.eval()\n",
        "    total_epoch_loss = 0\n",
        "    total_epoch_acc = 0\n",
        "    total_epoch_f1 = 0\n",
        "    with torch.no_grad():\n",
        "        for i, (x, y) in enumerate(evalloader):\n",
        "            preds = model(x.float())\n",
        "            loss = criterion(preds, y)\n",
        "            pred_0_1 = torch.round(torch.sigmoid(preds))\n",
        "            num_corrects = torch.sum(torch.eq(pred_0_1, y))\n",
        "            acc = 100.0 * num_corrects.item()/len(y)\n",
        "            total_epoch_loss += loss.item()\n",
        "            total_epoch_acc += acc\n",
        "            total_epoch_f1 += f1_score(y.detach().numpy(), pred_0_1.detach().numpy())\n",
        "            \n",
        "\n",
        "    return total_epoch_loss/(i+1), total_epoch_acc/(i+1), total_epoch_f1/(i+1) "
      ]
    },
    {
      "cell_type": "code",
      "execution_count": null,
      "metadata": {
        "colab": {
          "base_uri": "https://localhost:8080/",
          "height": 1000
        },
        "id": "dOvIffxdPHYD",
        "outputId": "f4e0fd59-f3c7-46a2-eab5-c1ac0cdcfe05"
      },
      "outputs": [
        {
          "output_type": "stream",
          "name": "stdout",
          "text": [
            "Epoch 0 : training loss = 0.5375830894284364, train accuracy = 75.28, f1 score = 0.6581\n",
            "\u001b[34m----------------------------------------------------------------------------------------------------\u001b[0m\n",
            "\u001b[34mEpoch 0 : validation loss = 0.6099843645266666, validation accuracy = 68.79, f1 score = 0.6172\u001b[0m\n",
            "\u001b[34m----------------------------------------------------------------------------------------------------\u001b[0m\n",
            "Epoch 10 : training loss = 0.5393583276438424, train accuracy = 75.17, f1 score = 0.6465\n",
            "Epoch 20 : training loss = 0.5325185003095411, train accuracy = 74.06, f1 score = 0.6535\n",
            "Epoch 30 : training loss = 0.5383713888263123, train accuracy = 75.14, f1 score = 0.6733\n",
            "\u001b[34m----------------------------------------------------------------------------------------------------\u001b[0m\n",
            "\u001b[34mEpoch 35 : validation loss = 0.6085168058230619, validation accuracy = 69.75, f1 score = 0.6275\u001b[0m\n",
            "\u001b[34m----------------------------------------------------------------------------------------------------\u001b[0m\n",
            "Epoch 40 : training loss = 0.5415911195314644, train accuracy = 74.51, f1 score = 0.6503\n",
            "Epoch 50 : training loss = 0.5382413161970262, train accuracy = 75.38, f1 score = 0.6710\n",
            "Epoch 60 : training loss = 0.536166705473766, train accuracy = 74.97, f1 score = 0.6526\n",
            "Epoch 70 : training loss = 0.5352387131301738, train accuracy = 75.83, f1 score = 0.6712\n",
            "\u001b[34m----------------------------------------------------------------------------------------------------\u001b[0m\n",
            "\u001b[34mEpoch 70 : validation loss = 0.6110873390819617, validation accuracy = 69.43, f1 score = 0.6522\u001b[0m\n",
            "\u001b[34m----------------------------------------------------------------------------------------------------\u001b[0m\n",
            "Epoch 80 : training loss = 0.531108123087971, train accuracy = 75.0, f1 score = 0.6554\n",
            "Epoch 90 : training loss = 0.527955113140504, train accuracy = 76.15, f1 score = 0.6732\n",
            "Epoch 100 : training loss = 0.5328291598785048, train accuracy = 75.31, f1 score = 0.6498\n",
            "\u001b[34m----------------------------------------------------------------------------------------------------\u001b[0m\n",
            "\u001b[34mEpoch 105 : validation loss = 0.6058850679072035, validation accuracy = 68.79, f1 score = 0.6048\u001b[0m\n",
            "\u001b[34m----------------------------------------------------------------------------------------------------\u001b[0m\n",
            "Epoch 110 : training loss = 0.5200326023131816, train accuracy = 77.01, f1 score = 0.6874\n",
            "Epoch 120 : training loss = 0.5212367181756741, train accuracy = 77.15, f1 score = 0.6918\n",
            "Epoch 130 : training loss = 0.5260392959740582, train accuracy = 75.14, f1 score = 0.6552\n",
            "Epoch 140 : training loss = 0.5232074682807757, train accuracy = 75.38, f1 score = 0.6409\n",
            "\u001b[34m----------------------------------------------------------------------------------------------------\u001b[0m\n",
            "\u001b[34mEpoch 140 : validation loss = 0.6045255149554485, validation accuracy = 69.43, f1 score = 0.6098\u001b[0m\n",
            "\u001b[34m----------------------------------------------------------------------------------------------------\u001b[0m\n",
            "Epoch 150 : training loss = 0.51990193755547, train accuracy = 75.94, f1 score = 0.6835\n",
            "Epoch 160 : training loss = 0.5382059012028751, train accuracy = 75.9, f1 score = 0.6690\n",
            "Epoch 170 : training loss = 0.521363523855689, train accuracy = 75.52, f1 score = 0.6511\n",
            "\u001b[34m----------------------------------------------------------------------------------------------------\u001b[0m\n",
            "\u001b[34mEpoch 175 : validation loss = 0.6051406394393676, validation accuracy = 68.15, f1 score = 0.6212\u001b[0m\n",
            "\u001b[34m----------------------------------------------------------------------------------------------------\u001b[0m\n",
            "Epoch 180 : training loss = 0.5234502268987449, train accuracy = 76.56, f1 score = 0.6834\n",
            "Epoch 190 : training loss = 0.5154700618754658, train accuracy = 76.88, f1 score = 0.6874\n",
            "Epoch 200 : training loss = 0.516623580599359, train accuracy = 77.53, f1 score = 0.6970\n",
            "Epoch 210 : training loss = 0.5092162398107273, train accuracy = 77.6, f1 score = 0.6877\n",
            "\u001b[34m----------------------------------------------------------------------------------------------------\u001b[0m\n",
            "\u001b[34mEpoch 210 : validation loss = 0.6022066742146186, validation accuracy = 68.79, f1 score = 0.6202\u001b[0m\n",
            "\u001b[34m----------------------------------------------------------------------------------------------------\u001b[0m\n",
            "Epoch 220 : training loss = 0.5137393808862221, train accuracy = 76.35, f1 score = 0.6926\n",
            "Epoch 230 : training loss = 0.5265287322920308, train accuracy = 76.04, f1 score = 0.6467\n",
            "Epoch 240 : training loss = 0.5155688251779389, train accuracy = 75.9, f1 score = 0.6621\n",
            "\u001b[34m----------------------------------------------------------------------------------------------------\u001b[0m\n",
            "\u001b[34mEpoch 245 : validation loss = 0.6034020464392794, validation accuracy = 68.15, f1 score = 0.6094\u001b[0m\n",
            "\u001b[34m----------------------------------------------------------------------------------------------------\u001b[0m\n",
            "Epoch 250 : training loss = 0.5255795628928657, train accuracy = 76.63, f1 score = 0.6847\n",
            "Epoch 260 : training loss = 0.5213103300736596, train accuracy = 75.45, f1 score = 0.6659\n",
            "Epoch 270 : training loss = 0.5125860778310906, train accuracy = 77.53, f1 score = 0.6876\n",
            "Epoch 280 : training loss = 0.5113769140417894, train accuracy = 75.83, f1 score = 0.6699\n",
            "\u001b[34m----------------------------------------------------------------------------------------------------\u001b[0m\n",
            "\u001b[34mEpoch 280 : validation loss = 0.6025183194844871, validation accuracy = 67.52, f1 score = 0.6107\u001b[0m\n",
            "\u001b[34m----------------------------------------------------------------------------------------------------\u001b[0m\n",
            "Epoch 290 : training loss = 0.5099720470613749, train accuracy = 78.3, f1 score = 0.6958\n",
            "Epoch 300 : training loss = 0.5276341465702797, train accuracy = 76.08, f1 score = 0.6782\n",
            "Epoch 310 : training loss = 0.5171628580266971, train accuracy = 77.33, f1 score = 0.6871\n",
            "\u001b[34m----------------------------------------------------------------------------------------------------\u001b[0m\n",
            "\u001b[34mEpoch 315 : validation loss = 0.6019302115651073, validation accuracy = 67.83, f1 score = 0.6100\u001b[0m\n",
            "\u001b[34m----------------------------------------------------------------------------------------------------\u001b[0m\n",
            "Epoch 320 : training loss = 0.5096293382172007, train accuracy = 76.67, f1 score = 0.6906\n",
            "Epoch 330 : training loss = 0.5071221088026909, train accuracy = 77.26, f1 score = 0.6977\n",
            "Epoch 340 : training loss = 0.5050869008121986, train accuracy = 77.15, f1 score = 0.6855\n",
            "Epoch 350 : training loss = 0.5096770242710288, train accuracy = 76.98, f1 score = 0.6761\n",
            "\u001b[34m----------------------------------------------------------------------------------------------------\u001b[0m\n",
            "\u001b[34mEpoch 350 : validation loss = 0.6033593384477838, validation accuracy = 69.11, f1 score = 0.6340\u001b[0m\n",
            "\u001b[34m----------------------------------------------------------------------------------------------------\u001b[0m\n",
            "Epoch 360 : training loss = 0.5057452476615759, train accuracy = 76.74, f1 score = 0.6955\n",
            "Epoch 370 : training loss = 0.5144255821819469, train accuracy = 76.88, f1 score = 0.6826\n",
            "Epoch 380 : training loss = 0.5064290118284084, train accuracy = 76.28, f1 score = 0.6634\n",
            "\u001b[34m----------------------------------------------------------------------------------------------------\u001b[0m\n",
            "\u001b[34mEpoch 385 : validation loss = 0.60465670942928, validation accuracy = 69.43, f1 score = 0.6000\u001b[0m\n",
            "\u001b[34m----------------------------------------------------------------------------------------------------\u001b[0m\n",
            "Epoch 390 : training loss = 0.5115801749967633, train accuracy = 76.88, f1 score = 0.6708\n",
            "Epoch 400 : training loss = 0.5090669417831426, train accuracy = 75.97, f1 score = 0.6624\n",
            "Epoch 410 : training loss = 0.49550538223055707, train accuracy = 77.6, f1 score = 0.7041\n",
            "Epoch 420 : training loss = 0.5018936955454086, train accuracy = 77.4, f1 score = 0.6810\n",
            "\u001b[34m----------------------------------------------------------------------------------------------------\u001b[0m\n",
            "\u001b[34mEpoch 420 : validation loss = 0.6003377212175898, validation accuracy = 69.11, f1 score = 0.6312\u001b[0m\n",
            "\u001b[34m----------------------------------------------------------------------------------------------------\u001b[0m\n",
            "Epoch 430 : training loss = 0.4998756831983984, train accuracy = 78.26, f1 score = 0.7144\n",
            "Epoch 440 : training loss = 0.5115984988415019, train accuracy = 76.53, f1 score = 0.6822\n",
            "Epoch 450 : training loss = 0.5031068487804279, train accuracy = 77.15, f1 score = 0.6901\n",
            "\u001b[34m----------------------------------------------------------------------------------------------------\u001b[0m\n",
            "\u001b[34mEpoch 455 : validation loss = 0.6031312912726289, validation accuracy = 68.79, f1 score = 0.6316\u001b[0m\n",
            "\u001b[34m----------------------------------------------------------------------------------------------------\u001b[0m\n",
            "Epoch 460 : training loss = 0.4958142739555721, train accuracy = 76.94, f1 score = 0.6778\n",
            "Epoch 470 : training loss = 0.5029390136879455, train accuracy = 78.4, f1 score = 0.7100\n",
            "Epoch 480 : training loss = 0.4977195464724597, train accuracy = 77.95, f1 score = 0.6984\n",
            "Epoch 490 : training loss = 0.4967962469381746, train accuracy = 77.57, f1 score = 0.6867\n",
            "\u001b[34m----------------------------------------------------------------------------------------------------\u001b[0m\n",
            "\u001b[34mEpoch 490 : validation loss = 0.5993863709721785, validation accuracy = 70.06, f1 score = 0.6357\u001b[0m\n",
            "\u001b[34m----------------------------------------------------------------------------------------------------\u001b[0m\n"
          ]
        },
        {
          "output_type": "display_data",
          "data": {
            "text/plain": [
              "<Figure size 720x504 with 1 Axes>"
            ],
            "image/png": "[encoded data removed]"
          },
          "metadata": {
            "needs_background": "light"
          }
        }
      ],
      "source": [
        "from termcolor import colored\n",
        "n_epochs = 500\n",
        "val_losses, tot_losses = [], []\n",
        "\n",
        "for i in range(n_epochs):\n",
        "    acc, losses, f1 = [], [], []\n",
        "    seq_model.train()\n",
        "    for idx, (x, y) in enumerate(data_train):       \n",
        "        opt.zero_grad()\n",
        "        pred = seq_model(x.float())\n",
        "        #print(pred.shape)\n",
        "        loss = criterion(pred, y)\n",
        "        loss.backward()\n",
        "        opt.step()\n",
        "        \n",
        "        losses.append(loss.item())\n",
        "        pred_0_1 = torch.round(torch.sigmoid(pred))\n",
        "        num_corrects = torch.sum(torch.eq(pred_0_1, y))\n",
        "        acc.append(100.0 * num_corrects.item()/len(y))\n",
        "        \n",
        "        f1.append(f1_score(y.detach().numpy(), pred_0_1.detach().numpy(), zero_division=0))\n",
        "    \n",
        "    tot_acc = np.mean(acc)\n",
        "    val_loss, val_acc, val_f1 = eval_model(seq_model, criterion, data_val)\n",
        "    val_losses.append(val_loss)\n",
        "    tot_losses.append(np.mean(losses))\n",
        "    f1_mean = np.mean(f1)\n",
        "    \n",
        "    if i % 10 == 0 :\n",
        "        print(f'Epoch {i} : training loss = {tot_losses[-1]}, train accuracy = {np.round(tot_acc, 2)}, f1 score = {f1_mean:.4f}')\n",
        "    if (i % 35 == 0):\n",
        "        print(colored(\"--\"*50, 'blue'))\n",
        "        print(colored(f\"Epoch {i} : validation loss = {val_loss}, validation accuracy = {np.round(val_acc, 2)}, f1 score = {val_f1:.4f}\", 'blue'))\n",
        "        print(colored(\"--\"*50, 'blue'))\n",
        "\n",
        "plt.figure(figsize=(10, 7))\n",
        "plt.plot(np.array(tot_losses), label=\"Training loss\")\n",
        "plt.plot(np.array(val_losses), label=\"Validation loss\")\n",
        "plt.legend()\n",
        "plt.show()"
      ]
    },
    {
      "cell_type": "code",
      "execution_count": null,
      "metadata": {
        "colab": {
          "base_uri": "https://localhost:8080/"
        },
        "id": "N6CzkwHEPHYE",
        "outputId": "65e62793-346b-4db3-856a-d4a71a9e9e8e"
      },
      "outputs": [
        {
          "output_type": "execute_result",
          "data": {
            "text/plain": [
              "66.87898089171975"
            ]
          },
          "metadata": {},
          "execution_count": 292
        }
      ],
      "source": [
        "val_loss, val_acc, _ = eval_model(seq_model, criterion, data_val)\n",
        "val_acc"
      ]
    },
    {
      "cell_type": "code",
      "execution_count": null,
      "metadata": {
        "id": "btJYMAzxPHYF"
      },
      "outputs": [],
      "source": [
        "seq_model.eval()\n",
        "preds = torch.sigmoid(seq_model(torch.FloatTensor(x_test)))\n",
        "pred_0_1 = np.round(preds.detach().numpy())\n",
        "np.savetxt('pred_classif.txt', pred_0_1, fmt='%d')"
      ]
    },
    {
      "cell_type": "markdown",
      "metadata": {
        "jp-MarkdownHeadingCollapsed": true,
        "tags": [],
        "id": "uI11U37hPHYF"
      },
      "source": [
        "### Regression"
      ]
    },
    {
      "cell_type": "code",
      "execution_count": null,
      "metadata": {
        "id": "9Q6BJmJJPHYG"
      },
      "outputs": [],
      "source": [
        "import torch.nn as nn\n",
        "import torch.nn.functional as F\n",
        "\n",
        "class Sequential_Model(nn.Module):\n",
        "    \n",
        "    def __init__(self, embedding_dim, hidden_dim, is_reg=False):\n",
        "        super().__init__()\n",
        "        self.embedding_dim = embedding_dim\n",
        "        self.hidden_dim = hidden_dim\n",
        "        self.is_reg = is_reg\n",
        " \n",
        "        self.lstm = nn.LSTM(self.embedding_dim, self.hidden_dim, \n",
        "                            num_layers=2, bidirectional=False,\n",
        "                            dropout=.3, batch_first=True)\n",
        "        self.gru = nn.GRU(self.embedding_dim, self.hidden_dim,\n",
        "                          num_layers=2, dropout=.3, batch_first=True)\n",
        "        \n",
        "        self.fc = nn.Linear(self.hidden_dim, self.hidden_dim//2)\n",
        "        self.dropout = nn.Dropout(p=0.3)\n",
        "        self.bn_1 = nn.BatchNorm1d(self.hidden_dim)\n",
        "        self.bn_2 = nn.BatchNorm1d(self.hidden_dim//2)\n",
        "        self.linear = nn.Linear(self.hidden_dim//2, 1)\n",
        "\n",
        "    def forward(self, seq_inputs):\n",
        "        # seq_inputs is of shape : (batch_size, seq_length, embedding_dim + 1)\n",
        "        n_samples = seq_inputs.size(0)\n",
        "        \n",
        "        (hn_t, c_t) = (torch.zeros(2, n_samples, self.hidden_dim), \n",
        "                       torch.zeros(2, n_samples, self.hidden_dim))\n",
        "        #out = torch.mean(seq_inputs, axis=1)\n",
        "        out, _ = self.gru(seq_inputs, hn_t)\n",
        "        #out, _ = self.gru(seq_inputs, hn_t)\n",
        "        out = F.elu_(self.fc(out[:,-1,:]))\n",
        "        out = F.elu_(self.dropout(out))\n",
        "    \n",
        "        out = self.linear(out)\n",
        "                \n",
        "        return out.squeeze()"
      ]
    },
    {
      "cell_type": "code",
      "execution_count": null,
      "metadata": {
        "id": "UU_gnMLsPHYH"
      },
      "outputs": [],
      "source": [
        "import torch.optim as optim\n",
        "\n",
        "seq_model = Sequential_Model(embedding_dim=x.shape[2], hidden_dim=32)\n",
        "opt = optim.Adam(seq_model.parameters(), lr=1e-4, weight_decay=3e-3)\n",
        "\n",
        "criterion = nn.MSELoss() "
      ]
    },
    {
      "cell_type": "code",
      "execution_count": null,
      "metadata": {
        "id": "dQli5DCQPHYJ"
      },
      "outputs": [],
      "source": [
        "def eval_model(model, criterion, evalloader):\n",
        "    model.eval()\n",
        "    total_epoch_loss = 0\n",
        "    total_epoch_rmse = 0\n",
        "    with torch.no_grad():\n",
        "        for i, (x, y) in enumerate(evalloader):\n",
        "            preds = model(x.float())\n",
        "            loss = criterion(preds, y.float())\n",
        "            rmse = np.sqrt(loss.item())\n",
        "            total_epoch_loss += loss.item()\n",
        "            total_epoch_rmse += rmse\n",
        "\n",
        "    return total_epoch_loss/(i+1), total_epoch_rmse/(i+1)"
      ]
    },
    {
      "cell_type": "code",
      "execution_count": null,
      "metadata": {
        "id": "h6Sz6uTlPHYJ",
        "outputId": "f966c05d-b77a-44b4-e04f-d1f671bbbf65",
        "colab": {
          "base_uri": "https://localhost:8080/",
          "height": 1000
        }
      },
      "outputs": [
        {
          "output_type": "stream",
          "name": "stdout",
          "text": [
            "Epoch 0 : training loss = 1.115280294790864, train rmse = 1.0174\n",
            "\u001b[34m--------------------------------------------------------------------------------\u001b[0m\n",
            "\u001b[34mEpoch 0 : validation loss = 0.7034569382667542, validation rmse = 0.8387\u001b[0m\n",
            "\u001b[34m--------------------------------------------------------------------------------\u001b[0m\n",
            "Epoch 10 : training loss = 0.349614231614396, train rmse = 0.5532\n",
            "Epoch 20 : training loss = 0.22961556853260845, train rmse = 0.4572\n",
            "Epoch 30 : training loss = 0.22493328771088272, train rmse = 0.4544\n",
            "\u001b[34m--------------------------------------------------------------------------------\u001b[0m\n",
            "\u001b[34mEpoch 35 : validation loss = 0.09504920244216919, validation rmse = 0.3083\u001b[0m\n",
            "\u001b[34m--------------------------------------------------------------------------------\u001b[0m\n",
            "Epoch 40 : training loss = 0.17692058417014778, train rmse = 0.4023\n",
            "Epoch 50 : training loss = 0.1711682395543903, train rmse = 0.3934\n",
            "Epoch 60 : training loss = 0.17351313156541437, train rmse = 0.3978\n",
            "Epoch 70 : training loss = 0.15577889163978398, train rmse = 0.3740\n",
            "\u001b[34m--------------------------------------------------------------------------------\u001b[0m\n",
            "\u001b[34mEpoch 70 : validation loss = 0.088420569896698, validation rmse = 0.2974\u001b[0m\n",
            "\u001b[34m--------------------------------------------------------------------------------\u001b[0m\n",
            "Epoch 80 : training loss = 0.15581705991644412, train rmse = 0.3709\n",
            "Epoch 90 : training loss = 0.16514717449899763, train rmse = 0.3884\n",
            "Epoch 100 : training loss = 0.14033885498065501, train rmse = 0.3604\n",
            "\u001b[34m--------------------------------------------------------------------------------\u001b[0m\n",
            "\u001b[34mEpoch 105 : validation loss = 0.08005577325820923, validation rmse = 0.2829\u001b[0m\n",
            "\u001b[34m--------------------------------------------------------------------------------\u001b[0m\n",
            "Epoch 110 : training loss = 0.14575717272236943, train rmse = 0.3673\n",
            "Epoch 120 : training loss = 0.1328314181882888, train rmse = 0.3451\n",
            "Epoch 130 : training loss = 0.11898414744064212, train rmse = 0.3382\n",
            "Epoch 140 : training loss = 0.13765942223835737, train rmse = 0.3520\n",
            "\u001b[34m--------------------------------------------------------------------------------\u001b[0m\n",
            "\u001b[34mEpoch 140 : validation loss = 0.07565636187791824, validation rmse = 0.2751\u001b[0m\n",
            "\u001b[34m--------------------------------------------------------------------------------\u001b[0m\n",
            "Epoch 150 : training loss = 0.13735685485880822, train rmse = 0.3433\n",
            "Epoch 160 : training loss = 0.11455599870532751, train rmse = 0.3281\n",
            "Epoch 170 : training loss = 0.11206342943478376, train rmse = 0.3194\n",
            "\u001b[34m--------------------------------------------------------------------------------\u001b[0m\n",
            "\u001b[34mEpoch 175 : validation loss = 0.07347578555345535, validation rmse = 0.2711\u001b[0m\n",
            "\u001b[34m--------------------------------------------------------------------------------\u001b[0m\n",
            "Epoch 180 : training loss = 0.12372579192742705, train rmse = 0.3369\n",
            "Epoch 190 : training loss = 0.1483097899472341, train rmse = 0.3634\n",
            "Epoch 200 : training loss = 0.10412587493192405, train rmse = 0.3118\n",
            "Epoch 210 : training loss = 0.09816971851978451, train rmse = 0.3038\n",
            "\u001b[34m--------------------------------------------------------------------------------\u001b[0m\n",
            "\u001b[34mEpoch 210 : validation loss = 0.06543713808059692, validation rmse = 0.2558\u001b[0m\n",
            "\u001b[34m--------------------------------------------------------------------------------\u001b[0m\n",
            "Epoch 220 : training loss = 0.09497401263797656, train rmse = 0.3020\n",
            "Epoch 230 : training loss = 0.08494298032019287, train rmse = 0.2822\n",
            "Epoch 240 : training loss = 0.08935539284721017, train rmse = 0.2913\n",
            "\u001b[34m--------------------------------------------------------------------------------\u001b[0m\n",
            "\u001b[34mEpoch 245 : validation loss = 0.0609242208302021, validation rmse = 0.2468\u001b[0m\n",
            "\u001b[34m--------------------------------------------------------------------------------\u001b[0m\n",
            "Epoch 250 : training loss = 0.08874705224297941, train rmse = 0.2926\n",
            "Epoch 260 : training loss = 0.09015921299578622, train rmse = 0.2913\n",
            "Epoch 270 : training loss = 0.09759402938652784, train rmse = 0.2994\n",
            "Epoch 280 : training loss = 0.10061236401088536, train rmse = 0.3085\n",
            "\u001b[34m--------------------------------------------------------------------------------\u001b[0m\n",
            "\u001b[34mEpoch 280 : validation loss = 0.0700308233499527, validation rmse = 0.2646\u001b[0m\n",
            "\u001b[34m--------------------------------------------------------------------------------\u001b[0m\n",
            "Epoch 290 : training loss = 0.10246016015298665, train rmse = 0.3088\n",
            "Epoch 300 : training loss = 0.09779629146214575, train rmse = 0.3007\n",
            "Epoch 310 : training loss = 0.08230477315373719, train rmse = 0.2775\n",
            "\u001b[34m--------------------------------------------------------------------------------\u001b[0m\n",
            "\u001b[34mEpoch 315 : validation loss = 0.060327135026454926, validation rmse = 0.2456\u001b[0m\n",
            "\u001b[34m--------------------------------------------------------------------------------\u001b[0m\n",
            "Epoch 320 : training loss = 0.08338830433785915, train rmse = 0.2799\n",
            "Epoch 330 : training loss = 0.09357659431407228, train rmse = 0.2917\n",
            "Epoch 340 : training loss = 0.09090343321440741, train rmse = 0.2893\n"
          ]
        },
        {
          "output_type": "display_data",
          "data": {
            "text/plain": [
              "<Figure size 720x504 with 1 Axes>"
            ],
            "image/png": "[encoded data removed]"
          },
          "metadata": {
            "needs_background": "light"
          }
        }
      ],
      "source": [
        "from termcolor import colored\n",
        "n_epochs = 350\n",
        "val_losses, tot_losses = [], []\n",
        "\n",
        "for i in range(n_epochs):\n",
        "    rmse, losses = [], []\n",
        "    seq_model.train()\n",
        "    for idx, (x, y) in enumerate(data_train):       \n",
        "        opt.zero_grad()\n",
        "        pred = seq_model(x.float())\n",
        "        #print(pred.shape)\n",
        "        loss = criterion(pred, y.float())\n",
        "        loss.backward()\n",
        "        opt.step()\n",
        "        \n",
        "        losses.append(loss.item())\n",
        "        rmse.append(np.sqrt(loss.item()))\n",
        "    \n",
        "    tot_rmse = np.mean(rmse)\n",
        "    val_loss, val_rmse = eval_model(seq_model, criterion, data_val)\n",
        "    val_losses.append(val_loss)\n",
        "    tot_losses.append(np.mean(losses))\n",
        "    \n",
        "    if i % 10 == 0 :\n",
        "        print(f'Epoch {i} : training loss = {tot_losses[-1]}, train rmse = {tot_rmse:.4f}')\n",
        "    if (i % 35 == 0):\n",
        "        print(colored(\"--\"*40, 'blue'))\n",
        "        print(colored(f\"Epoch {i} : validation loss = {val_loss}, validation rmse = {val_rmse:.4f}\", 'blue'))\n",
        "        print(colored(\"--\"*40, 'blue'))\n",
        "\n",
        "plt.figure(figsize=(10, 7))\n",
        "plt.plot(np.array(tot_losses[20:]), label=\"Training loss\")\n",
        "plt.plot(np.array(val_losses[20:]), label=\"Validation loss\")\n",
        "plt.legend()\n",
        "plt.show()"
      ]
    },
    {
      "cell_type": "markdown",
      "metadata": {
        "id": "gIbV_SdiPHYL"
      },
      "source": [
        "Export predictions in .txt"
      ]
    },
    {
      "cell_type": "code",
      "execution_count": null,
      "metadata": {
        "id": "JqBLPOJtPHYM",
        "outputId": "4ab045ee-7433-4387-935b-8434f0a36df6",
        "colab": {
          "base_uri": "https://localhost:8080/"
        }
      },
      "outputs": [
        {
          "output_type": "execute_result",
          "data": {
            "text/plain": [
              "0.23751575204411576"
            ]
          },
          "metadata": {},
          "execution_count": 275
        }
      ],
      "source": [
        "val_loss, val_rmse = eval_model(seq_model, criterion, data_val)\n",
        "val_rmse"
      ]
    },
    {
      "cell_type": "code",
      "execution_count": null,
      "metadata": {
        "id": "KKOT74x2PHYM"
      },
      "outputs": [],
      "source": [
        "seq_model.eval()\n",
        "preds = seq_model(torch.FloatTensor(x_test))\n",
        "np.savetxt('pred_reg.txt', preds.detach().numpy(), fmt='%.17f')"
      ]
    }
  ],
  "metadata": {
    "colab": {
      "collapsed_sections": [
        "0cbmu34WPHW3",
        "XS-O6nHGPHXT",
        "CtIoEP1v4HEj",
        "3DtpRUuYRZvz",
        "6YlpX52-dicP",
        "e1tw27YBjdMj",
        "MBwDxGaAIsfs",
        "pigO_1jKPHX-",
        "xzp83RdJPHX_",
        "SQC1SCDvPHYA",
        "uI11U37hPHYF",
        "58KKbMjjPHYO",
        "MSEWqt-C3e2r",
        "sJXpLphAPHYQ",
        "oYkPcC2HPHYS"
      ],
      "name": "Data_challenge_cleaned.ipynb",
      "provenance": []
    },
    "kernelspec": {
      "display_name": "Python 3",
      "name": "python3"
    },
    "language_info": {
      "name": "python"
    },
    "toc-autonumbering": false,
    "toc-showcode": true,
    "toc-showmarkdowntxt": false,
    "toc-showtags": false,
    "accelerator": "GPU"
  },
  "nbformat": 4,
  "nbformat_minor": 0
}